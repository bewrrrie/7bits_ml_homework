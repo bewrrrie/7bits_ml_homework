{
 "cells": [
  {
   "cell_type": "markdown",
   "metadata": {},
   "source": [
    "# Домашняя работа 8. Деревья решений. (32 балла)\n",
    "\n",
    "1. Скачайте этот ноутбук к себе.\n",
    "2. Заполните пропущенные ячейки, отвечая на заданные вопросы. Там должен быть код! (если не сказано обратное)\n",
    "3. Сохраните результат в своём гитхаб репозитории.\n",
    "4. Пришлите на почту ml-teachers ссылку на этот файл в вашем репозитории.\n",
    "5. В теме письма указать `ML Homework #8: Name Surname`. Если тема будет неправильная, то задание не будет проверено.\n",
    "6. Дедлайн: 18.12.2017 01:00 OMSK\n",
    "7. После дедлайна можно сдать, но вы получите штраф по баллам в рейтинге.\n",
    "\n",
    "Рассылка решений: 25.12.2017 17:00 OMSK\n",
    "После рассылки задания почти совсем не имеют веса.\n",
    "\n",
    "## Полезная литература\n",
    "\n",
    "- [Habrahabr: ODS деревья решений](https://habrahabr.ru/company/ods/blog/322534/#derevo-resheniy)\n",
    "- [ВМК МГУ семинары по решающим деревьям](https://github.com/esokolov/ml-course-msu/blob/master/ML16/lecture-notes/Sem04_trees.pdf)\n",
    "- [Sklearn Decision Trees](http://scikit-learn.org/stable/modules/tree.html)"
   ]
  },
  {
   "cell_type": "markdown",
   "metadata": {},
   "source": [
    "## 1. Сравнение моделей деревьев\n",
    "\n",
    "В этом блоке вы сравните разные конфигурации композиции деревьев:\n",
    "- DecisionTree\n",
    "- Bagging\n",
    "- Bagging с другими настройками подбора признаков для разбиения\n",
    "- RandomForest\n",
    "\n",
    "Будем использовать [датасет с винишком](https://archive.ics.uci.edu/ml/datasets/wine+quality) - это задача то ли классификации то ли регресси - нужно предсказывать качество вина. Будем думать что это классификация.\n",
    "\n",
    "![](https://upload.wikimedia.org/wikipedia/en/thumb/7/7c/Lulz_Security.svg/300px-Lulz_Security.svg.png)"
   ]
  },
  {
   "cell_type": "markdown",
   "metadata": {},
   "source": [
    "### 1.1 Чтение данных (1 балла)\n",
    "\n",
    "Данные лежат как обычно в `'../../data/winequality-red.csv.gz'`.\n",
    "\n",
    "- Прочитайте их с помощью pandas\n",
    "- нарисуйте countplot целевого признака `quality`.\n",
    "- Что вы думаете по поводу количества представителей каждого класса.\n",
    "- Разбейте данные на X и y."
   ]
  },
  {
   "cell_type": "code",
   "execution_count": 1,
   "metadata": {},
   "outputs": [],
   "source": [
    "import pandas as pd\n",
    "import numpy as np\n",
    "from matplotlib import pyplot as plt\n",
    "import seaborn as sns\n",
    "\n",
    "%matplotlib inline"
   ]
  },
  {
   "cell_type": "code",
   "execution_count": 2,
   "metadata": {},
   "outputs": [
    {
     "data": {
      "text/html": [
       "<div>\n",
       "<style scoped>\n",
       "    .dataframe tbody tr th:only-of-type {\n",
       "        vertical-align: middle;\n",
       "    }\n",
       "\n",
       "    .dataframe tbody tr th {\n",
       "        vertical-align: top;\n",
       "    }\n",
       "\n",
       "    .dataframe thead th {\n",
       "        text-align: right;\n",
       "    }\n",
       "</style>\n",
       "<table border=\"1\" class=\"dataframe\">\n",
       "  <thead>\n",
       "    <tr style=\"text-align: right;\">\n",
       "      <th></th>\n",
       "      <th>fixed acidity</th>\n",
       "      <th>volatile acidity</th>\n",
       "      <th>citric acid</th>\n",
       "      <th>residual sugar</th>\n",
       "      <th>chlorides</th>\n",
       "      <th>free sulfur dioxide</th>\n",
       "      <th>total sulfur dioxide</th>\n",
       "      <th>density</th>\n",
       "      <th>pH</th>\n",
       "      <th>sulphates</th>\n",
       "      <th>alcohol</th>\n",
       "      <th>quality</th>\n",
       "    </tr>\n",
       "  </thead>\n",
       "  <tbody>\n",
       "    <tr>\n",
       "      <th>0</th>\n",
       "      <td>7.4</td>\n",
       "      <td>0.70</td>\n",
       "      <td>0.00</td>\n",
       "      <td>1.9</td>\n",
       "      <td>0.076</td>\n",
       "      <td>11.0</td>\n",
       "      <td>34.0</td>\n",
       "      <td>0.9978</td>\n",
       "      <td>3.51</td>\n",
       "      <td>0.56</td>\n",
       "      <td>9.4</td>\n",
       "      <td>5</td>\n",
       "    </tr>\n",
       "    <tr>\n",
       "      <th>1</th>\n",
       "      <td>7.8</td>\n",
       "      <td>0.88</td>\n",
       "      <td>0.00</td>\n",
       "      <td>2.6</td>\n",
       "      <td>0.098</td>\n",
       "      <td>25.0</td>\n",
       "      <td>67.0</td>\n",
       "      <td>0.9968</td>\n",
       "      <td>3.20</td>\n",
       "      <td>0.68</td>\n",
       "      <td>9.8</td>\n",
       "      <td>5</td>\n",
       "    </tr>\n",
       "    <tr>\n",
       "      <th>2</th>\n",
       "      <td>7.8</td>\n",
       "      <td>0.76</td>\n",
       "      <td>0.04</td>\n",
       "      <td>2.3</td>\n",
       "      <td>0.092</td>\n",
       "      <td>15.0</td>\n",
       "      <td>54.0</td>\n",
       "      <td>0.9970</td>\n",
       "      <td>3.26</td>\n",
       "      <td>0.65</td>\n",
       "      <td>9.8</td>\n",
       "      <td>5</td>\n",
       "    </tr>\n",
       "    <tr>\n",
       "      <th>3</th>\n",
       "      <td>11.2</td>\n",
       "      <td>0.28</td>\n",
       "      <td>0.56</td>\n",
       "      <td>1.9</td>\n",
       "      <td>0.075</td>\n",
       "      <td>17.0</td>\n",
       "      <td>60.0</td>\n",
       "      <td>0.9980</td>\n",
       "      <td>3.16</td>\n",
       "      <td>0.58</td>\n",
       "      <td>9.8</td>\n",
       "      <td>6</td>\n",
       "    </tr>\n",
       "    <tr>\n",
       "      <th>4</th>\n",
       "      <td>7.4</td>\n",
       "      <td>0.70</td>\n",
       "      <td>0.00</td>\n",
       "      <td>1.9</td>\n",
       "      <td>0.076</td>\n",
       "      <td>11.0</td>\n",
       "      <td>34.0</td>\n",
       "      <td>0.9978</td>\n",
       "      <td>3.51</td>\n",
       "      <td>0.56</td>\n",
       "      <td>9.4</td>\n",
       "      <td>5</td>\n",
       "    </tr>\n",
       "  </tbody>\n",
       "</table>\n",
       "</div>"
      ],
      "text/plain": [
       "   fixed acidity  volatile acidity  citric acid  residual sugar  chlorides  \\\n",
       "0            7.4              0.70         0.00             1.9      0.076   \n",
       "1            7.8              0.88         0.00             2.6      0.098   \n",
       "2            7.8              0.76         0.04             2.3      0.092   \n",
       "3           11.2              0.28         0.56             1.9      0.075   \n",
       "4            7.4              0.70         0.00             1.9      0.076   \n",
       "\n",
       "   free sulfur dioxide  total sulfur dioxide  density    pH  sulphates  \\\n",
       "0                 11.0                  34.0   0.9978  3.51       0.56   \n",
       "1                 25.0                  67.0   0.9968  3.20       0.68   \n",
       "2                 15.0                  54.0   0.9970  3.26       0.65   \n",
       "3                 17.0                  60.0   0.9980  3.16       0.58   \n",
       "4                 11.0                  34.0   0.9978  3.51       0.56   \n",
       "\n",
       "   alcohol  quality  \n",
       "0      9.4        5  \n",
       "1      9.8        5  \n",
       "2      9.8        5  \n",
       "3      9.8        6  \n",
       "4      9.4        5  "
      ]
     },
     "execution_count": 2,
     "metadata": {},
     "output_type": "execute_result"
    }
   ],
   "source": [
    "data = pd.read_csv('data/winequality-red.csv.gz', sep=';')\n",
    "X, y = data.drop('quality', axis=1), data.quality\n",
    "\n",
    "data.head()"
   ]
  },
  {
   "cell_type": "code",
   "execution_count": 3,
   "metadata": {},
   "outputs": [
    {
     "data": {
      "text/plain": [
       "<matplotlib.axes._subplots.AxesSubplot at 0x7f3ee48f2b38>"
      ]
     },
     "execution_count": 3,
     "metadata": {},
     "output_type": "execute_result"
    },
    {
     "data": {
      "image/png": "[encoded data removed]",
      "text/plain": [
       "<matplotlib.figure.Figure at 0x7f3f1847f0f0>"
      ]
     },
     "metadata": {},
     "output_type": "display_data"
    }
   ],
   "source": [
    "sns.countplot(data.quality, data=data)"
   ]
  },
  {
   "cell_type": "markdown",
   "metadata": {},
   "source": [
    "Гляда по countplot, можно понять, что выборка несбалансирована по классам."
   ]
  },
  {
   "cell_type": "code",
   "execution_count": 4,
   "metadata": {},
   "outputs": [
    {
     "data": {
      "text/html": [
       "<div>\n",
       "<style scoped>\n",
       "    .dataframe tbody tr th:only-of-type {\n",
       "        vertical-align: middle;\n",
       "    }\n",
       "\n",
       "    .dataframe tbody tr th {\n",
       "        vertical-align: top;\n",
       "    }\n",
       "\n",
       "    .dataframe thead th {\n",
       "        text-align: right;\n",
       "    }\n",
       "</style>\n",
       "<table border=\"1\" class=\"dataframe\">\n",
       "  <thead>\n",
       "    <tr style=\"text-align: right;\">\n",
       "      <th></th>\n",
       "      <th>fixed acidity</th>\n",
       "      <th>volatile acidity</th>\n",
       "      <th>citric acid</th>\n",
       "      <th>residual sugar</th>\n",
       "      <th>chlorides</th>\n",
       "      <th>free sulfur dioxide</th>\n",
       "      <th>total sulfur dioxide</th>\n",
       "      <th>density</th>\n",
       "      <th>pH</th>\n",
       "      <th>sulphates</th>\n",
       "      <th>alcohol</th>\n",
       "    </tr>\n",
       "  </thead>\n",
       "  <tbody>\n",
       "    <tr>\n",
       "      <th>0</th>\n",
       "      <td>7.4</td>\n",
       "      <td>0.70</td>\n",
       "      <td>0.00</td>\n",
       "      <td>1.9</td>\n",
       "      <td>0.076</td>\n",
       "      <td>11.0</td>\n",
       "      <td>34.0</td>\n",
       "      <td>0.9978</td>\n",
       "      <td>3.51</td>\n",
       "      <td>0.56</td>\n",
       "      <td>9.4</td>\n",
       "    </tr>\n",
       "    <tr>\n",
       "      <th>1</th>\n",
       "      <td>7.8</td>\n",
       "      <td>0.88</td>\n",
       "      <td>0.00</td>\n",
       "      <td>2.6</td>\n",
       "      <td>0.098</td>\n",
       "      <td>25.0</td>\n",
       "      <td>67.0</td>\n",
       "      <td>0.9968</td>\n",
       "      <td>3.20</td>\n",
       "      <td>0.68</td>\n",
       "      <td>9.8</td>\n",
       "    </tr>\n",
       "    <tr>\n",
       "      <th>2</th>\n",
       "      <td>7.8</td>\n",
       "      <td>0.76</td>\n",
       "      <td>0.04</td>\n",
       "      <td>2.3</td>\n",
       "      <td>0.092</td>\n",
       "      <td>15.0</td>\n",
       "      <td>54.0</td>\n",
       "      <td>0.9970</td>\n",
       "      <td>3.26</td>\n",
       "      <td>0.65</td>\n",
       "      <td>9.8</td>\n",
       "    </tr>\n",
       "    <tr>\n",
       "      <th>3</th>\n",
       "      <td>11.2</td>\n",
       "      <td>0.28</td>\n",
       "      <td>0.56</td>\n",
       "      <td>1.9</td>\n",
       "      <td>0.075</td>\n",
       "      <td>17.0</td>\n",
       "      <td>60.0</td>\n",
       "      <td>0.9980</td>\n",
       "      <td>3.16</td>\n",
       "      <td>0.58</td>\n",
       "      <td>9.8</td>\n",
       "    </tr>\n",
       "    <tr>\n",
       "      <th>4</th>\n",
       "      <td>7.4</td>\n",
       "      <td>0.70</td>\n",
       "      <td>0.00</td>\n",
       "      <td>1.9</td>\n",
       "      <td>0.076</td>\n",
       "      <td>11.0</td>\n",
       "      <td>34.0</td>\n",
       "      <td>0.9978</td>\n",
       "      <td>3.51</td>\n",
       "      <td>0.56</td>\n",
       "      <td>9.4</td>\n",
       "    </tr>\n",
       "  </tbody>\n",
       "</table>\n",
       "</div>"
      ],
      "text/plain": [
       "   fixed acidity  volatile acidity  citric acid  residual sugar  chlorides  \\\n",
       "0            7.4              0.70         0.00             1.9      0.076   \n",
       "1            7.8              0.88         0.00             2.6      0.098   \n",
       "2            7.8              0.76         0.04             2.3      0.092   \n",
       "3           11.2              0.28         0.56             1.9      0.075   \n",
       "4            7.4              0.70         0.00             1.9      0.076   \n",
       "\n",
       "   free sulfur dioxide  total sulfur dioxide  density    pH  sulphates  \\\n",
       "0                 11.0                  34.0   0.9978  3.51       0.56   \n",
       "1                 25.0                  67.0   0.9968  3.20       0.68   \n",
       "2                 15.0                  54.0   0.9970  3.26       0.65   \n",
       "3                 17.0                  60.0   0.9980  3.16       0.58   \n",
       "4                 11.0                  34.0   0.9978  3.51       0.56   \n",
       "\n",
       "   alcohol  \n",
       "0      9.4  \n",
       "1      9.8  \n",
       "2      9.8  \n",
       "3      9.8  \n",
       "4      9.4  "
      ]
     },
     "execution_count": 4,
     "metadata": {},
     "output_type": "execute_result"
    }
   ],
   "source": [
    "X.head()"
   ]
  },
  {
   "cell_type": "code",
   "execution_count": 5,
   "metadata": {},
   "outputs": [
    {
     "data": {
      "text/plain": [
       "0    5\n",
       "1    5\n",
       "2    5\n",
       "3    6\n",
       "4    5\n",
       "Name: quality, dtype: int64"
      ]
     },
     "execution_count": 5,
     "metadata": {},
     "output_type": "execute_result"
    }
   ],
   "source": [
    "y.head()"
   ]
  },
  {
   "cell_type": "markdown",
   "metadata": {},
   "source": [
    "### 1.2 Сравнение моделей (4 балла)\n",
    "\n",
    "Задача классификации. Все признаки уже числовые. Значит можно пробовать просто все модели и выбрать лучшую. Так и поступим, сделайте кросс валидацию на 5 фолдах, используя `sklearn.model_selection.KFold` как аргумент у `cross_val_score`. Метрика качества будет `accuracy`.\n",
    "\n",
    "Алгоритмы для тестирования:\n",
    "- KNeighborsClassifier с 10 соседями\n",
    "- KNeighborsClassifier с 10 соседями и масштабированием StandartScaler\n",
    "- RidgeClassifier\n",
    "- DecisionTreeClassifier \n",
    "- BaggingClassifier c 100 деревьев\n",
    "- BaggingClassifier с 100 деревьев и каждое дерево обучается только по половине случайно выбранных признаков (см аргументы)\n",
    "- RandomForestClassifier c 100 деревьев\n",
    "\n",
    "Выведите среднее значение метрики качества для каждого из классификаторов. \n",
    "\n",
    "**hint**: каждый следующий алгоритм, будет показывать качество лучше, чем предыдущий. Если у вас не так - то что-то вы делаете неправильно. Везде зафиксируйте random_state=42."
   ]
  },
  {
   "cell_type": "code",
   "execution_count": 6,
   "metadata": {},
   "outputs": [],
   "source": [
    "from sklearn.model_selection import KFold\n",
    "from sklearn.model_selection import cross_val_score\n",
    "\n",
    "from sklearn.neighbors import KNeighborsClassifier\n",
    "from sklearn.linear_model import RidgeClassifier\n",
    "from sklearn.tree import DecisionTreeClassifier\n",
    "from sklearn.ensemble import BaggingClassifier\n",
    "from sklearn.ensemble import RandomForestClassifier\n",
    "\n",
    "np.random.seed(seed=42)"
   ]
  },
  {
   "cell_type": "markdown",
   "metadata": {},
   "source": [
    "##### Обучение KNeighborsClassifier с 10 соседями"
   ]
  },
  {
   "cell_type": "code",
   "execution_count": 7,
   "metadata": {},
   "outputs": [
    {
     "name": "stdout",
     "output_type": "stream",
     "text": [
      "CPU times: user 4 ms, sys: 0 ns, total: 4 ms\n",
      "Wall time: 4.27 ms\n"
     ]
    },
    {
     "data": {
      "text/plain": [
       "0.51221982758620688"
      ]
     },
     "execution_count": 7,
     "metadata": {},
     "output_type": "execute_result"
    }
   ],
   "source": [
    "kf = KFold(n_splits=5, random_state=42, shuffle=True)\n",
    "\n",
    "kNN = KNeighborsClassifier(n_neighbors=10, n_jobs=4)\n",
    "%time kNN.fit(X, y)\n",
    "\n",
    "cross_val_score(kNN, X, y, scoring='accuracy', cv=kf, n_jobs=4).mean()"
   ]
  },
  {
   "cell_type": "markdown",
   "metadata": {},
   "source": [
    "##### Обучение KNeighborsClassifier с 10 соседями и масштабированием StandartScaler "
   ]
  },
  {
   "cell_type": "code",
   "execution_count": 8,
   "metadata": {},
   "outputs": [
    {
     "name": "stdout",
     "output_type": "stream",
     "text": [
      "CPU times: user 4 ms, sys: 0 ns, total: 4 ms\n",
      "Wall time: 2.54 ms\n"
     ]
    },
    {
     "data": {
      "text/plain": [
       "0.57975313479623825"
      ]
     },
     "execution_count": 8,
     "metadata": {},
     "output_type": "execute_result"
    }
   ],
   "source": [
    "from sklearn.preprocessing import StandardScaler\n",
    "\n",
    "X_scaled = StandardScaler().fit_transform(X, y)\n",
    "\n",
    "kNN_scaled = KNeighborsClassifier(n_neighbors=10, n_jobs=4)\n",
    "%time kNN_scaled.fit(X_scaled, y)\n",
    "\n",
    "cross_val_score(kNN_scaled, X_scaled, y, scoring='accuracy', cv=kf, n_jobs=4).mean()"
   ]
  },
  {
   "cell_type": "markdown",
   "metadata": {},
   "source": [
    "##### Обучение RidgeClassifier"
   ]
  },
  {
   "cell_type": "code",
   "execution_count": 9,
   "metadata": {},
   "outputs": [
    {
     "name": "stdout",
     "output_type": "stream",
     "text": [
      "CPU times: user 8 ms, sys: 0 ns, total: 8 ms\n",
      "Wall time: 7.53 ms\n"
     ]
    },
    {
     "data": {
      "text/plain": [
       "0.58353840125391854"
      ]
     },
     "execution_count": 9,
     "metadata": {},
     "output_type": "execute_result"
    }
   ],
   "source": [
    "ridge_clf = RidgeClassifier(random_state=42)\n",
    "%time ridge_clf.fit(X, y)\n",
    "\n",
    "cross_val_score(ridge_clf, X, y, scoring='accuracy', cv=kf, n_jobs=4).mean()"
   ]
  },
  {
   "cell_type": "markdown",
   "metadata": {},
   "source": [
    "##### Обучение DecisionTreeClassifier"
   ]
  },
  {
   "cell_type": "code",
   "execution_count": 10,
   "metadata": {},
   "outputs": [
    {
     "name": "stdout",
     "output_type": "stream",
     "text": [
      "CPU times: user 24 ms, sys: 0 ns, total: 24 ms\n",
      "Wall time: 22.1 ms\n"
     ]
    },
    {
     "data": {
      "text/plain": [
       "0.61852076802507827"
      ]
     },
     "execution_count": 10,
     "metadata": {},
     "output_type": "execute_result"
    }
   ],
   "source": [
    "dt_clf = DecisionTreeClassifier(random_state=42)\n",
    "%time dt_clf.fit(X, y)\n",
    "\n",
    "cross_val_score(dt_clf, X, y, scoring='accuracy', cv=kf, n_jobs=4).mean()"
   ]
  },
  {
   "cell_type": "markdown",
   "metadata": {},
   "source": [
    "##### Обучение BaggingClassifier c 100 деревьев"
   ]
  },
  {
   "cell_type": "code",
   "execution_count": 11,
   "metadata": {},
   "outputs": [
    {
     "name": "stdout",
     "output_type": "stream",
     "text": [
      "CPU times: user 172 ms, sys: 52 ms, total: 224 ms\n",
      "Wall time: 883 ms\n"
     ]
    },
    {
     "data": {
      "text/plain": [
       "0.69546042319749213"
      ]
     },
     "execution_count": 11,
     "metadata": {},
     "output_type": "execute_result"
    }
   ],
   "source": [
    "bag_clf = BaggingClassifier(n_estimators=100, n_jobs=4, random_state=42)\n",
    "%time bag_clf.fit(X, y)\n",
    "\n",
    "cross_val_score(bag_clf, X, y, scoring='accuracy', cv=kf, n_jobs=1).mean()"
   ]
  },
  {
   "cell_type": "markdown",
   "metadata": {},
   "source": [
    "##### Обучение BaggingClassifier c 100 деревьев,  каждое дерево обучается только по половине случайно выбранных признаков"
   ]
  },
  {
   "cell_type": "code",
   "execution_count": 12,
   "metadata": {},
   "outputs": [
    {
     "name": "stdout",
     "output_type": "stream",
     "text": [
      "CPU times: user 176 ms, sys: 76 ms, total: 252 ms\n",
      "Wall time: 697 ms\n"
     ]
    },
    {
     "data": {
      "text/plain": [
       "0.69921630094043885"
      ]
     },
     "execution_count": 12,
     "metadata": {},
     "output_type": "execute_result"
    }
   ],
   "source": [
    "bag_clf = BaggingClassifier(n_estimators=100, max_features=.5, n_jobs=4, random_state=42)\n",
    "%time bag_clf.fit(X, y)\n",
    "\n",
    "cross_val_score(bag_clf, X, y, scoring='accuracy', cv=kf, n_jobs=1).mean()"
   ]
  },
  {
   "cell_type": "markdown",
   "metadata": {},
   "source": [
    "##### Обучение RandomForestClassifier с 100 деревьев"
   ]
  },
  {
   "cell_type": "code",
   "execution_count": 13,
   "metadata": {},
   "outputs": [
    {
     "name": "stdout",
     "output_type": "stream",
     "text": [
      "CPU times: user 936 ms, sys: 64 ms, total: 1 s\n",
      "Wall time: 609 ms\n"
     ]
    },
    {
     "data": {
      "text/plain": [
       "0.70109130094043892"
      ]
     },
     "execution_count": 13,
     "metadata": {},
     "output_type": "execute_result"
    }
   ],
   "source": [
    "rf_clf = RandomForestClassifier(n_estimators=100, n_jobs=4, random_state=42)\n",
    "%time rf_clf.fit(X, y)\n",
    "\n",
    "cross_val_score(rf_clf, X, y, scoring='accuracy', cv=kf, n_jobs=1).mean()"
   ]
  },
  {
   "cell_type": "markdown",
   "metadata": {},
   "source": [
    "### 1.3 Расуждения (8 баллов)\n",
    "\n",
    "Ответьте на вопросы развернуто, можете полистать литературу:\n",
    "\n",
    "- почему наблюдается значимая разница в качестве у KNeighborsClassifier с масштабированием и без\n",
    "- почему масштабирование не важно для деревьев решений\n",
    "- почему бэггинг на половине признаков для каждого дерева дал качество предсказания больше, чем на всех? (а он дал!)\n",
    "- у какой модели наибольшей отклонение от среднего качества предсказаний? А почему??"
   ]
  },
  {
   "cell_type": "markdown",
   "metadata": {},
   "source": [
    "1. Числовые признаки разного масштаба дают разный по величине вклад во время обучения. Подсчет расстояния между объектами очень зависит от значений координат этих объектов. StandardScaler нормирует признаки таким образом, что среднее и отклонение становятся равны единице. Таким образом нормируются и покоординатные разности для каждой пары объектов, что является важным, т.к. метрика Минковского учитыват эти самые покоординатные разности.\n",
    "\n",
    "2. Критерий выбора наиболее информативного признака позволяет учесть разный вклад, которые дают признаки разного масштаба на данный момент. Таким образом деревья учитывают различие в масштабе.\n",
    "\n",
    "3. Насколько я понимаю, уменьшение доли признаков, используемых для обучения, позволяет избегать переобучения дерева. Таким образом, каждое из деревьев в бэггинге отвечало только за объекты, из подходящей для данного дерева подвыборки.\n",
    "\n",
    "4. У первой в списке модели. Видимо из-за того, что признаки не были масштабированы, её score оказался очень низким сравнительно остальных моделей  (ранее мы выяснили, что в алгоритмах, использующих метрику, масштаб координат имеет большое значение) ."
   ]
  },
  {
   "cell_type": "markdown",
   "metadata": {},
   "source": [
    "## 2 Переобучение и Ко\n",
    "\n",
    "В последнем задании вы уже заметили, что случайный лес может вести себя немного нестабильно. В этом задании мы возьмем опять датасет MNIST(простите) и будем его решать деревьями. Почему мы взяли его? Потому что в нем фактически много разных признаков (значения пикселей в пространстве), а деревья строятсья делая разбиения по признакам. Обычно на эти разбиения не обращают внимание, так как главное что тюнят - это глубина дереьвев, количество деревьев, а кучу других параметров обходят стороной, так как они \"неясные\". Попробуем прояснить их."
   ]
  },
  {
   "cell_type": "markdown",
   "metadata": {},
   "source": [
    "### 2.1 Загрузка датасета (1 балл)\n",
    "\n",
    "Загрузите датасет с помощью функции `sklearn.datasets.load_digits`. В нем будут 64px картинки в векторной форме.\n",
    "\n",
    "Нарисуйте первые 10 цифр в одной ячейке, чтобы было красиво."
   ]
  },
  {
   "cell_type": "code",
   "execution_count": 14,
   "metadata": {},
   "outputs": [],
   "source": [
    "from sklearn.datasets import load_digits\n",
    "dig_X, dig_y = load_digits(return_X_y=True)"
   ]
  },
  {
   "cell_type": "code",
   "execution_count": 15,
   "metadata": {},
   "outputs": [
    {
     "data": {
      "image/png": "[encoded data removed]",
      "text/plain": [
       "<matplotlib.figure.Figure at 0x7f3f09d7c320>"
      ]
     },
     "metadata": {},
     "output_type": "display_data"
    }
   ],
   "source": [
    "plt.figure(figsize=(16, 6))\n",
    "for i in range(10):\n",
    "    plt.subplot(2, 5, i + 1)\n",
    "    plt.imshow(dig_X[i,:].reshape([8,8]))"
   ]
  },
  {
   "cell_type": "markdown",
   "metadata": {},
   "source": [
    "### 2.2 Перебор классификаторов (3 балла)\n",
    "\n",
    "В этом задании вам снова придется перебрать несколько классификаторов, но теперь мы обратим внимание на другие гиперпараметры и их влияние на качество классификации, кстати опять `accuracy`.\n",
    "\n",
    "Сделайте кроссвалидацию на 10 фолдах, указав `cv=10` для следующих классификаторов:\n",
    "\n",
    "- DecisionTreeClassifier с параметрами по-умолчанию\n",
    "- BaggingClassifier с 100 деревьвев\n",
    "- BaggingClassifier с 100 деревьев, НО с ограничением на максимальное количество признаков, участвующих при обучении каждого из деревьев в $\\sqrt{N}$, где $N$ - это число признаков.\n",
    "- BaggingClassifier с 100 деревьев, НО с ограничением на количество признаков участвующих в разбиении для каждого из деревьев в $\\sqrt{N}$, где $N$ - это число признаков. Это отличается от предыдущей модели тем, где ограничивается `max_features`. Читайте документацию :trollface:\n",
    "- обычный случайный лес со 100 деревьями"
   ]
  },
  {
   "cell_type": "code",
   "execution_count": 16,
   "metadata": {},
   "outputs": [],
   "source": [
    "clfs = [\n",
    "    ('Decision tree (default parameters)', DecisionTreeClassifier(random_state=42)),\n",
    "    ('Bagging clf (100 estimators)', BaggingClassifier(n_estimators=100, n_jobs=4, random_state=42)),\n",
    "    ('Bagging clf (100 estimators, max_features=sqrt(N))', \n",
    "         BaggingClassifier(n_estimators=100, max_features=int(np.sqrt(len(dig_X[0]))), n_jobs=4, random_state=42)),\n",
    "    ('Bagging clf (100 estimators, max_samples=sqrt(N))', \n",
    "         BaggingClassifier(base_estimator=DecisionTreeClassifier(\n",
    "             random_state=42, max_features=int(np.sqrt(len(dig_X[0])))\n",
    "         ), n_estimators=100, n_jobs=4, random_state=42)),\n",
    "    ('Random forest (100 estimators)', RandomForestClassifier(n_estimators=100, random_state=42))\n",
    "]"
   ]
  },
  {
   "cell_type": "code",
   "execution_count": 17,
   "metadata": {},
   "outputs": [
    {
     "name": "stdout",
     "output_type": "stream",
     "text": [
      "Decision tree (default parameters) :\n",
      "CPU times: user 40 ms, sys: 0 ns, total: 40 ms\n",
      "Wall time: 41 ms\n",
      "Score: 0.837085080214 \n",
      "\n",
      "Bagging clf (100 estimators) :\n",
      "CPU times: user 208 ms, sys: 64 ms, total: 272 ms\n",
      "Wall time: 1.52 s\n",
      "Score: 0.926622379912 \n",
      "\n",
      "Bagging clf (100 estimators, max_features=sqrt(N)) :\n",
      "CPU times: user 200 ms, sys: 96 ms, total: 296 ms\n",
      "Wall time: 714 ms\n",
      "Score: 0.931169233525 \n",
      "\n",
      "Bagging clf (100 estimators, max_samples=sqrt(N)) :\n",
      "CPU times: user 176 ms, sys: 92 ms, total: 268 ms\n",
      "Wall time: 813 ms\n",
      "Score: 0.953332102247 \n",
      "\n",
      "Random forest (100 estimators) :\n",
      "CPU times: user 772 ms, sys: 92 ms, total: 864 ms\n",
      "Wall time: 872 ms\n",
      "Score: 0.953310668872 \n",
      "\n"
     ]
    }
   ],
   "source": [
    "for c in clfs:\n",
    "    print(c[0], ':')\n",
    "    %time c[1].fit(dig_X, dig_y)\n",
    "    print('Score:', cross_val_score(c[1], dig_X, dig_y, scoring='accuracy', cv=10, n_jobs=1).mean(), '\\n')"
   ]
  },
  {
   "cell_type": "markdown",
   "metadata": {},
   "source": [
    "### 2.3 В чём разница? (3 балла)\n",
    "\n",
    "Ответье на вопрос: \n",
    "\n",
    "Странно то как? Почему ограничение на количество признаков в разбиении дерева и ограничение в количестве признаков для построения каждого дерева в BaggingClasifier дало СОВСЕМ разный результат в качестве предсказания? В чем магия?\n",
    "\n",
    "![](https://i.ytimg.com/vi/_5GWMIAHc08/hqdefault.jpg)"
   ]
  },
  {
   "cell_type": "markdown",
   "metadata": {},
   "source": [
    "##### Ответ:\n",
    "Во втором случае, в отличие от первого, обучение каждого из деревьев происходит более разнообразными способами. Значимость признаков в разбиении выборки варьируется от дерева к дереву."
   ]
  },
  {
   "cell_type": "markdown",
   "metadata": {},
   "source": [
    "### 2.4 Количество деревьев (2 балла)\n",
    "\n",
    "Сделайте перебор количества деревьев для `RandomForestClassifier`. Сохраните качества кросс валидации на 10 фолдах для `[1,5,10,15,50,100,150,200,300]` количества деревьев. Нарисуйте график, где по оси x - количество деревьев, а по оси y - качество. При каком количестве деревьев получается самое хорошее качество?"
   ]
  },
  {
   "cell_type": "code",
   "execution_count": 18,
   "metadata": {},
   "outputs": [
    {
     "name": "stdout",
     "output_type": "stream",
     "text": [
      "1 trees\n",
      "CPU times: user 16 ms, sys: 4 ms, total: 20 ms\n",
      "Wall time: 108 ms\n",
      "Score: 0.761635733552\n",
      "\n",
      "5 trees\n",
      "CPU times: user 60 ms, sys: 4 ms, total: 64 ms\n",
      "Wall time: 120 ms\n",
      "Score: 0.883702869674\n",
      "\n",
      "10 trees\n",
      "CPU times: user 100 ms, sys: 4 ms, total: 104 ms\n",
      "Wall time: 132 ms\n",
      "Score: 0.927202121785\n",
      "\n",
      "15 trees\n",
      "CPU times: user 156 ms, sys: 12 ms, total: 168 ms\n",
      "Wall time: 156 ms\n",
      "Score: 0.941717861426\n",
      "\n",
      "50 trees\n",
      "CPU times: user 492 ms, sys: 24 ms, total: 516 ms\n",
      "Wall time: 351 ms\n",
      "Score: 0.955011386465\n",
      "\n",
      "100 trees\n",
      "CPU times: user 956 ms, sys: 48 ms, total: 1 s\n",
      "Wall time: 574 ms\n",
      "Score: 0.953310668872\n",
      "\n",
      "150 trees\n",
      "CPU times: user 1.52 s, sys: 72 ms, total: 1.59 s\n",
      "Wall time: 1e+03 ms\n",
      "Score: 0.948331555706\n",
      "\n",
      "200 trees\n",
      "CPU times: user 1.88 s, sys: 116 ms, total: 2 s\n",
      "Wall time: 1.26 s\n",
      "Score: 0.949973868701\n",
      "\n",
      "300 trees\n",
      "CPU times: user 2.88 s, sys: 128 ms, total: 3.01 s\n",
      "Wall time: 1.73 s\n",
      "Score: 0.951622990901\n",
      "\n"
     ]
    }
   ],
   "source": [
    "n_estimators = [1,5,10,15,50,100,150,200,300]\n",
    "scores_est = []\n",
    "\n",
    "for n in n_estimators:\n",
    "    clf = RandomForestClassifier(n_estimators=n, n_jobs=4, random_state=42)\n",
    "    print(n, 'trees')\n",
    "    %time clf.fit(dig_X, dig_y)\n",
    "    score = cross_val_score(clf, dig_X, dig_y, scoring='accuracy', cv=10, n_jobs=4).mean()\n",
    "    print('Score:', score)\n",
    "    print()\n",
    "    \n",
    "    scores_est.append(score)"
   ]
  },
  {
   "cell_type": "code",
   "execution_count": 19,
   "metadata": {},
   "outputs": [
    {
     "name": "stdout",
     "output_type": "stream",
     "text": [
      "Optimal quantity of estimators: 50\n"
     ]
    },
    {
     "data": {
      "image/png": "[encoded data removed]",
      "text/plain": [
       "<matplotlib.figure.Figure at 0x7f3f08fa4710>"
      ]
     },
     "metadata": {},
     "output_type": "display_data"
    }
   ],
   "source": [
    "opt = np.argmax(scores_est)\n",
    "\n",
    "plt.plot(n_estimators, scores_est)\n",
    "plt.axvline(n_estimators[opt], color='r')\n",
    "plt.xlabel('n_estimators')\n",
    "plt.ylabel('Score')\n",
    "\n",
    "print('Optimal quantity of estimators:', n_estimators[opt])"
   ]
  },
  {
   "cell_type": "markdown",
   "metadata": {},
   "source": [
    "### 2.5 Количество признаков  (2 балла)\n",
    "\n",
    "Переберите теперь максимальное количество признаков для `RandomForestClassifier` на 100 деревьях, от 1 до 64 с шагом 5. Постройте график качества по кроссвалидации на 10 фолдах."
   ]
  },
  {
   "cell_type": "code",
   "execution_count": 20,
   "metadata": {},
   "outputs": [
    {
     "name": "stdout",
     "output_type": "stream",
     "text": [
      "n_features_max: 1\n",
      "CPU times: user 744 ms, sys: 52 ms, total: 796 ms\n",
      "Wall time: 618 ms\n",
      "Score: 0.951667794048\n",
      "\n",
      "n_features_max: 4\n",
      "CPU times: user 852 ms, sys: 32 ms, total: 884 ms\n",
      "Wall time: 710 ms\n",
      "Score: 0.960037515214\n",
      "\n",
      "n_features_max: 8\n",
      "CPU times: user 996 ms, sys: 32 ms, total: 1.03 s\n",
      "Wall time: 615 ms\n",
      "Score: 0.953310668872\n",
      "\n",
      "n_features_max: 12\n",
      "CPU times: user 1.12 s, sys: 52 ms, total: 1.17 s\n",
      "Wall time: 614 ms\n",
      "Score: 0.951091013339\n",
      "\n",
      "n_features_max: 16\n",
      "CPU times: user 1.27 s, sys: 40 ms, total: 1.31 s\n",
      "Wall time: 691 ms\n",
      "Score: 0.948352750518\n",
      "\n",
      "n_features_max: 20\n",
      "CPU times: user 1.38 s, sys: 52 ms, total: 1.44 s\n",
      "Wall time: 667 ms\n",
      "Score: 0.946065352762\n",
      "\n",
      "n_features_max: 24\n",
      "CPU times: user 1.56 s, sys: 44 ms, total: 1.6 s\n",
      "Wall time: 679 ms\n",
      "Score: 0.94887199695\n",
      "\n",
      "n_features_max: 28\n",
      "CPU times: user 1.72 s, sys: 40 ms, total: 1.76 s\n",
      "Wall time: 765 ms\n",
      "Score: 0.940487146243\n",
      "\n",
      "n_features_max: 32\n",
      "CPU times: user 1.87 s, sys: 36 ms, total: 1.91 s\n",
      "Wall time: 769 ms\n",
      "Score: 0.946022775544\n",
      "\n",
      "n_features_max: 36\n",
      "CPU times: user 2.05 s, sys: 20 ms, total: 2.07 s\n",
      "Wall time: 768 ms\n",
      "Score: 0.94155574176\n",
      "\n",
      "n_features_max: 40\n",
      "CPU times: user 2.2 s, sys: 36 ms, total: 2.23 s\n",
      "Wall time: 868 ms\n",
      "Score: 0.944932135795\n",
      "\n",
      "n_features_max: 44\n",
      "CPU times: user 2.36 s, sys: 28 ms, total: 2.38 s\n",
      "Wall time: 873 ms\n",
      "Score: 0.94050591701\n",
      "\n",
      "n_features_max: 48\n",
      "CPU times: user 2.53 s, sys: 32 ms, total: 2.56 s\n",
      "Wall time: 969 ms\n",
      "Score: 0.939998650243\n",
      "\n",
      "n_features_max: 52\n",
      "CPU times: user 2.68 s, sys: 24 ms, total: 2.7 s\n",
      "Wall time: 969 ms\n",
      "Score: 0.933840355282\n",
      "\n",
      "n_features_max: 56\n",
      "CPU times: user 2.93 s, sys: 8 ms, total: 2.94 s\n",
      "Wall time: 1.19 s\n",
      "Score: 0.928777408226\n",
      "\n",
      "n_features_max: 60\n",
      "CPU times: user 3.03 s, sys: 16 ms, total: 3.04 s\n",
      "Wall time: 1.07 s\n",
      "Score: 0.92938833508\n",
      "\n",
      "n_features_max: 64\n",
      "CPU times: user 3.17 s, sys: 32 ms, total: 3.2 s\n",
      "Wall time: 1.08 s\n",
      "Score: 0.926606649409\n",
      "\n"
     ]
    }
   ],
   "source": [
    "n_features_max = np.append([1], range(4, 65, 4))\n",
    "scores_feat = []\n",
    "\n",
    "for n in n_features_max:\n",
    "    clf = RandomForestClassifier(n_estimators=100, max_features=n, n_jobs=4, random_state=42)\n",
    "    print('n_features_max:', n)\n",
    "    %time clf.fit(dig_X, dig_y)\n",
    "    score = cross_val_score(clf, dig_X, dig_y, scoring='accuracy', cv=10, n_jobs=4).mean()\n",
    "    print('Score:', score)\n",
    "    print()\n",
    "    \n",
    "    scores_feat.append(score)"
   ]
  },
  {
   "cell_type": "code",
   "execution_count": 21,
   "metadata": {},
   "outputs": [
    {
     "name": "stdout",
     "output_type": "stream",
     "text": [
      "Optimal max_features value: 4\n"
     ]
    },
    {
     "data": {
      "image/png": "[encoded data removed]",
      "text/plain": [
       "<matplotlib.figure.Figure at 0x7f3f08f89c18>"
      ]
     },
     "metadata": {},
     "output_type": "display_data"
    }
   ],
   "source": [
    "opt = np.argmax(scores_feat)\n",
    "\n",
    "plt.plot(n_features_max, scores_feat)\n",
    "plt.axvline(n_features_max[opt], color='r')\n",
    "plt.xlabel('max_features')\n",
    "plt.ylabel('Score')\n",
    "\n",
    "print('Optimal max_features value:', n_features_max[opt])"
   ]
  },
  {
   "cell_type": "markdown",
   "metadata": {},
   "source": [
    "### 2.5 Вопросы по RandomForest (8 баллов)\n",
    "\n",
    "Ответьте на вопросы:\n",
    "\n",
    "- Что происходит с ростом числа деревьев у случайного леса. Можно ли просто всегда брать 5000 деревьев и быть счастливым?\n",
    "- Как зависит качество предсказания в дереве в зависимости от max_features?\n",
    "- Почему качество зависит от max_features?\n",
    "- Как глубина деревьев влияет на качество случайного леса?"
   ]
  },
  {
   "cell_type": "markdown",
   "metadata": {},
   "source": [
    "1. Судя по графику, это не имеет большого смысла. Т.е. примерно после 50 деревьев score начинает выравниваться и выходит на плато. Нет смысла тратить время на вычисления модели для большего числа деревьев, достаточно найти оптимум так, как мы это сделали в нашей задаче.\n",
    "\n",
    "2. Судя по графику оно имеет некоторый оптимум, после которого падает.\n",
    "\n",
    "3. Большое число max_features ведёт к переобучению деревьев. Слишком малого числа может просто не хватить для хорошего предсказания. Поэтому существует некая точка максимума.\n",
    "\n",
    "4. С увеличением максимальной глубины score, в большинстве случаев, возрастая стремится к ассимптоте (см. ниже). Увеличение максимальной глубины дерева позволяет справляться с переобучением, т.е. в некотором смысле увеличение максимальной глубины является способом регуляризации модели."
   ]
  },
  {
   "cell_type": "markdown",
   "metadata": {},
   "source": [
    "##### Зависимость качества от максимальной глубины дерева:"
   ]
  },
  {
   "cell_type": "code",
   "execution_count": 22,
   "metadata": {},
   "outputs": [
    {
     "name": "stdout",
     "output_type": "stream",
     "text": [
      "max_depth = 1\n",
      "CPU times: user 580 ms, sys: 16 ms, total: 596 ms\n",
      "Wall time: 603 ms\n",
      "Score: 0.6872222815\n",
      "\n",
      "max_depth = 5\n",
      "CPU times: user 792 ms, sys: 52 ms, total: 844 ms\n",
      "Wall time: 666 ms\n",
      "Score: 0.912057680194\n",
      "\n",
      "max_depth = 10\n",
      "CPU times: user 944 ms, sys: 28 ms, total: 972 ms\n",
      "Wall time: 576 ms\n",
      "Score: 0.948862911477\n",
      "\n",
      "max_depth = 15\n",
      "CPU times: user 952 ms, sys: 56 ms, total: 1.01 s\n",
      "Wall time: 578 ms\n",
      "Score: 0.953304761326\n",
      "\n",
      "max_depth = 20\n",
      "CPU times: user 940 ms, sys: 48 ms, total: 988 ms\n",
      "Wall time: 568 ms\n",
      "Score: 0.953310668872\n",
      "\n",
      "max_depth = 25\n",
      "CPU times: user 940 ms, sys: 56 ms, total: 996 ms\n",
      "Wall time: 576 ms\n",
      "Score: 0.953310668872\n",
      "\n",
      "max_depth = 30\n",
      "CPU times: user 944 ms, sys: 52 ms, total: 996 ms\n",
      "Wall time: 579 ms\n",
      "Score: 0.953310668872\n",
      "\n",
      "max_depth = 35\n",
      "CPU times: user 1.02 s, sys: 40 ms, total: 1.06 s\n",
      "Wall time: 768 ms\n",
      "Score: 0.953310668872\n",
      "\n"
     ]
    }
   ],
   "source": [
    "max_depths = np.append([1], range(5, 40, 5))\n",
    "scores_depth = []\n",
    "\n",
    "for d in max_depths:\n",
    "    clf = RandomForestClassifier(n_estimators=100, max_depth=d, n_jobs=4, random_state=42)\n",
    "    print('max_depth =', d)\n",
    "    %time clf.fit(dig_X, dig_y)\n",
    "    score = cross_val_score(clf, dig_X, dig_y, scoring='accuracy', cv=10, n_jobs=4).mean()\n",
    "    print('Score:', score)\n",
    "    print()\n",
    "    \n",
    "    scores_depth.append(score)"
   ]
  },
  {
   "cell_type": "code",
   "execution_count": 23,
   "metadata": {},
   "outputs": [
    {
     "name": "stdout",
     "output_type": "stream",
     "text": [
      "Optimal max_depth value: 20\n"
     ]
    },
    {
     "data": {
      "image/png": "[encoded data removed]",
      "text/plain": [
       "<matplotlib.figure.Figure at 0x7f3ede8a6fd0>"
      ]
     },
     "metadata": {},
     "output_type": "display_data"
    }
   ],
   "source": [
    "opt = np.argmax(scores_depth)\n",
    "\n",
    "plt.plot(max_depths, scores_depth)\n",
    "plt.axvline(max_depths[opt], color='r')\n",
    "plt.xlabel('max_depth')\n",
    "plt.ylabel('Score')\n",
    "\n",
    "print('Optimal max_depth value:', max_depths[opt])"
   ]
  },
  {
   "cell_type": "markdown",
   "metadata": {},
   "source": [
    "![](https://habrastorage.org/web/ad8/366/a44/ad8366a4469346c6b2e1306495b05d1a.jpg)"
   ]
  }
 ],
 "metadata": {
  "kernelspec": {
   "display_name": "Python 3",
   "language": "python",
   "name": "python3"
  },
  "language_info": {
   "codemirror_mode": {
    "name": "ipython",
    "version": 3
   },
   "file_extension": ".py",
   "mimetype": "text/x-python",
   "name": "python",
   "nbconvert_exporter": "python",
   "pygments_lexer": "ipython3",
   "version": "3.5.2"
  }
 },
 "nbformat": 4,
 "nbformat_minor": 2
}
