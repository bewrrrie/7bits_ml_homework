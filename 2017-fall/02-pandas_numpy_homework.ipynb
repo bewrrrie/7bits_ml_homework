{
 "cells": [
  {
   "cell_type": "markdown",
   "metadata": {},
   "source": [
    "# Домашная работа 2\n",
    "\n",
    "1. Скачайте этот ноутбук к себе.\n",
    "2. Заполните пропущенные ячейки, отвечая на заданные вопросы. Там должен быть код! (если не сказано обратное)\n",
    "3. Сохраните результат в своём гитхаб репозитории.\n",
    "4. Пришлите на почту *ml-teachers* ссылку на этот файл в вашем репозитории.\n",
    "5. В теме письма указать `ML Homework #2: Name Surname`. Если тема будет неправильная, то задание не будет проверено.\n",
    "\n",
    "**Дедлайн: 3.11.2017 6:00 OMSK**\n",
    "\n",
    "## Numpy\n",
    "\n",
    "#### Полезная литература\n",
    "\n",
    "- http://www.numpy.org/\n",
    "- https://jakevdp.github.io/PythonDataScienceHandbook/02.00-introduction-to-numpy.html\n",
    "- https://docs.scipy.org/doc/numpy-dev/user/quickstart.html"
   ]
  },
  {
   "cell_type": "markdown",
   "metadata": {},
   "source": [
    "1) Импортировать numpy и написать версию"
   ]
  },
  {
   "cell_type": "code",
   "execution_count": 1,
   "metadata": {},
   "outputs": [
    {
     "data": {
      "text/plain": [
       "'1.12.1'"
      ]
     },
     "execution_count": 1,
     "metadata": {},
     "output_type": "execute_result"
    }
   ],
   "source": [
    "import numpy as np\n",
    "\n",
    "np.__version__"
   ]
  },
  {
   "cell_type": "markdown",
   "metadata": {},
   "source": [
    "2) Создать нулевой вектор размера 10"
   ]
  },
  {
   "cell_type": "code",
   "execution_count": 2,
   "metadata": {},
   "outputs": [
    {
     "data": {
      "text/plain": [
       "array([ 0.,  0.,  0.,  0.,  0.,  0.,  0.,  0.,  0.,  0.])"
      ]
     },
     "execution_count": 2,
     "metadata": {},
     "output_type": "execute_result"
    }
   ],
   "source": [
    "np.zeros(10)"
   ]
  },
  {
   "cell_type": "markdown",
   "metadata": {},
   "source": [
    "3) Создать вектор заполненный 7-ами размера 7"
   ]
  },
  {
   "cell_type": "code",
   "execution_count": 3,
   "metadata": {},
   "outputs": [
    {
     "data": {
      "text/plain": [
       "array([7, 7, 7, 7, 7, 7, 7])"
      ]
     },
     "execution_count": 3,
     "metadata": {},
     "output_type": "execute_result"
    }
   ],
   "source": [
    "np.full(7,7)"
   ]
  },
  {
   "cell_type": "markdown",
   "metadata": {},
   "source": [
    "4) Создать вектор заполненный четными числами от 10 до 100"
   ]
  },
  {
   "cell_type": "code",
   "execution_count": 4,
   "metadata": {},
   "outputs": [
    {
     "data": {
      "text/plain": [
       "array([10, 12, 14, 16, 18, 20, 22, 24, 26, 28, 30, 32, 34, 36, 38, 40, 42,\n",
       "       44, 46, 48, 50, 52, 54, 56, 58, 60, 62, 64, 66, 68, 70, 72, 74, 76,\n",
       "       78, 80, 82, 84, 86, 88, 90, 92, 94, 96, 98])"
      ]
     },
     "execution_count": 4,
     "metadata": {},
     "output_type": "execute_result"
    }
   ],
   "source": [
    "np.arange(100)[10:100:2]"
   ]
  },
  {
   "cell_type": "markdown",
   "metadata": {},
   "source": [
    "5) Создать массив случайных чисел и развернуть его задом наперёд"
   ]
  },
  {
   "cell_type": "code",
   "execution_count": 5,
   "metadata": {},
   "outputs": [
    {
     "name": "stdout",
     "output_type": "stream",
     "text": [
      "[ 0.13433178  0.29940646  0.35510514  0.87974977  0.58428781  0.04730734\n",
      "  0.71657956  0.30579354  0.50660201  0.4388587 ]\n"
     ]
    },
    {
     "data": {
      "text/plain": [
       "array([ 0.4388587 ,  0.50660201,  0.30579354,  0.71657956,  0.04730734,\n",
       "        0.58428781,  0.87974977,  0.35510514,  0.29940646,  0.13433178])"
      ]
     },
     "execution_count": 5,
     "metadata": {},
     "output_type": "execute_result"
    }
   ],
   "source": [
    "arr = np.random.rand(10)\n",
    "inv_arr = arr[::-1]\n",
    "\n",
    "print(arr)\n",
    "inv_arr"
   ]
  },
  {
   "cell_type": "markdown",
   "metadata": {},
   "source": [
    "6) Создать двумерную матрицу размера 3 на 3, заполненную числами от 0 до 9"
   ]
  },
  {
   "cell_type": "code",
   "execution_count": 6,
   "metadata": {},
   "outputs": [
    {
     "data": {
      "text/plain": [
       "array([[0, 1, 2],\n",
       "       [3, 4, 5],\n",
       "       [6, 7, 8]])"
      ]
     },
     "execution_count": 6,
     "metadata": {},
     "output_type": "execute_result"
    }
   ],
   "source": [
    "np.arange(9).reshape(3,3)"
   ]
  },
  {
   "cell_type": "markdown",
   "metadata": {},
   "source": [
    "7) Создать матрицу размера 4 на 4 с единицами на диагонали смещеной на один наверх."
   ]
  },
  {
   "cell_type": "code",
   "execution_count": 7,
   "metadata": {},
   "outputs": [
    {
     "data": {
      "text/plain": [
       "array([[ 0.,  1.,  0.,  0.],\n",
       "       [ 0.,  0.,  1.,  0.],\n",
       "       [ 0.,  0.,  0.,  1.],\n",
       "       [ 0.,  0.,  0.,  0.]])"
      ]
     },
     "execution_count": 7,
     "metadata": {},
     "output_type": "execute_result"
    }
   ],
   "source": [
    "np.diag(np.ones(3), k=1)"
   ]
  },
  {
   "cell_type": "markdown",
   "metadata": {},
   "source": [
    "8) Создать матрицу с числами в диапазоне от 1 до 4 по диагонали. В других ячейках матрицы должны быть семерки."
   ]
  },
  {
   "cell_type": "code",
   "execution_count": 8,
   "metadata": {},
   "outputs": [
    {
     "data": {
      "text/plain": [
       "array([[1, 7, 7, 7],\n",
       "       [7, 2, 7, 7],\n",
       "       [7, 7, 3, 7],\n",
       "       [7, 7, 7, 4]])"
      ]
     },
     "execution_count": 8,
     "metadata": {},
     "output_type": "execute_result"
    }
   ],
   "source": [
    "m = np.full(16,7)\n",
    "m[0::5] = 1 + np.arange(4)\n",
    "m.reshape(4,4)"
   ]
  },
  {
   "cell_type": "markdown",
   "metadata": {},
   "source": [
    "9) Создать матрицу размера 5 на 5 заполненную числами от 0 до 4 в строках."
   ]
  },
  {
   "cell_type": "code",
   "execution_count": 9,
   "metadata": {},
   "outputs": [
    {
     "data": {
      "text/plain": [
       "array([[0, 1, 2, 3, 4],\n",
       "       [0, 1, 2, 3, 4],\n",
       "       [0, 1, 2, 3, 4],\n",
       "       [0, 1, 2, 3, 4],\n",
       "       [0, 1, 2, 3, 4]])"
      ]
     },
     "execution_count": 9,
     "metadata": {},
     "output_type": "execute_result"
    }
   ],
   "source": [
    "np.full((5,5), np.arange(5))"
   ]
  },
  {
   "cell_type": "markdown",
   "metadata": {},
   "source": [
    "10) Создать матрицу случайных чисел размера 10 на 10 и отнять среднее по строкам из каждого элемента строки"
   ]
  },
  {
   "cell_type": "code",
   "execution_count": 10,
   "metadata": {},
   "outputs": [
    {
     "name": "stdout",
     "output_type": "stream",
     "text": [
      "[[ 0.88742619  0.13097667  0.0161624   0.37871743  0.02497893  0.1774454\n",
      "   0.90056489  0.76721797  0.48953905  0.99238069]\n",
      " [ 0.80129468  0.62351527  0.07646601  0.64548165  0.5245811   0.53228473\n",
      "   0.71243771  0.86683828  0.35776858  0.78153481]\n",
      " [ 0.25837499  0.94174862  0.79164263  0.26468271  0.45089178  0.58947353\n",
      "   0.7680239   0.1367294   0.47659899  0.12609369]\n",
      " [ 0.12505299  0.79790863  0.98016496  0.22144228  0.34228542  0.63119524\n",
      "   0.63724179  0.92074585  0.85964485  0.20603818]\n",
      " [ 0.80042021  0.61994373  0.96551488  0.64339049  0.01925052  0.603275\n",
      "   0.3552584   0.41660274  0.18408497  0.9477528 ]\n",
      " [ 0.37291853  0.58785415  0.72480147  0.15585109  0.08822764  0.03393901\n",
      "   0.98980051  0.12418985  0.96247659  0.33735208]\n",
      " [ 0.09287934  0.34194204  0.58772496  0.23695886  0.76946324  0.0427605\n",
      "   0.4550185   0.10944855  0.68444084  0.3445667 ]\n",
      " [ 0.62536383  0.27923065  0.07526436  0.14238256  0.15953789  0.86380398\n",
      "   0.0485405   0.75174201  0.06989233  0.35707725]\n",
      " [ 0.01076932  0.02663987  0.76466745  0.27359189  0.03908204  0.64469639\n",
      "   0.50331654  0.48205004  0.25505287  0.16533394]\n",
      " [ 0.43523751  0.22054205  0.21472335  0.54896268  0.19897968  0.64641162\n",
      "   0.05590021  0.01208642  0.88048947  0.94750173]]\n"
     ]
    },
    {
     "data": {
      "text/plain": [
       "array([[ 0.41088523, -0.34556429, -0.46037857, -0.09782353, -0.45156203,\n",
       "        -0.29909556,  0.42402393,  0.29067701,  0.01299809,  0.51583973],\n",
       "       [ 0.20907439,  0.03129499, -0.51575427,  0.05326137, -0.06763918,\n",
       "        -0.05993555,  0.12021742,  0.274618  , -0.2344517 ,  0.18931453],\n",
       "       [-0.22205104,  0.4613226 ,  0.3112166 , -0.21574332, -0.02953424,\n",
       "         0.10904751,  0.28759787, -0.34369663, -0.00382703, -0.35433234],\n",
       "       [-0.44711903,  0.22573661,  0.40799295, -0.35072974, -0.2298866 ,\n",
       "         0.05902322,  0.06506977,  0.34857383,  0.28747283, -0.36613384],\n",
       "       [ 0.24487083,  0.06439435,  0.40996551,  0.08784112, -0.53629885,\n",
       "         0.04772562, -0.20029097, -0.13894663, -0.3714644 ,  0.39220342],\n",
       "       [-0.06482256,  0.15011306,  0.28706038, -0.28189   , -0.34951345,\n",
       "        -0.40380208,  0.55205941, -0.31355124,  0.52473549, -0.10038901],\n",
       "       [-0.27364101, -0.02457832,  0.22120461, -0.12956149,  0.40294289,\n",
       "        -0.32375985,  0.08849814, -0.2570718 ,  0.31792049, -0.02195366],\n",
       "       [ 0.2880803 , -0.05805288, -0.26201917, -0.19490097, -0.17774565,\n",
       "         0.52652044, -0.28874304,  0.41445848, -0.2673912 ,  0.01979371],\n",
       "       [-0.30575071, -0.28988017,  0.44814741, -0.04292815, -0.27743799,\n",
       "         0.32817636,  0.18679651,  0.16553   , -0.06146716, -0.1511861 ],\n",
       "       [ 0.01915404, -0.19554143, -0.20136013,  0.13287921, -0.21710379,\n",
       "         0.23032815, -0.36018326, -0.40399705,  0.464406  ,  0.53141826]])"
      ]
     },
     "execution_count": 10,
     "metadata": {},
     "output_type": "execute_result"
    }
   ],
   "source": [
    "m = np.random.rand(10, 10)\n",
    "print(m)\n",
    "\n",
    "m - m.mean(axis=1).reshape(10,1)"
   ]
  },
  {
   "cell_type": "markdown",
   "metadata": {},
   "source": [
    "12) Создать матрицу случайных чисел размера 10 на 10 и отнять медиану по столбцам из каждого элемента столбца"
   ]
  },
  {
   "cell_type": "code",
   "execution_count": 11,
   "metadata": {},
   "outputs": [
    {
     "name": "stdout",
     "output_type": "stream",
     "text": [
      "[[ 0.00535937  0.98839213  0.37755089  0.28317706  0.83154931  0.66873423\n",
      "   0.39712381  0.27030397  0.14350891  0.0545924 ]\n",
      " [ 0.71227944  0.56882326  0.15519195  0.98896659  0.50103598  0.76310987\n",
      "   0.54963567  0.3175581   0.01723997  0.97494297]\n",
      " [ 0.90923486  0.83321616  0.12444408  0.41226934  0.02393912  0.68105304\n",
      "   0.27718338  0.87987779  0.08690228  0.85475146]\n",
      " [ 0.89755253  0.71232945  0.83898344  0.7739841   0.25914344  0.60412875\n",
      "   0.20745618  0.62013027  0.42796819  0.07246894]\n",
      " [ 0.34314048  0.06409421  0.63431455  0.9718961   0.55197716  0.86344507\n",
      "   0.26383352  0.68043554  0.12539524  0.26258535]\n",
      " [ 0.57720498  0.75846117  0.17177123  0.86138523  0.34210421  0.24453576\n",
      "   0.99205079  0.60661816  0.95934375  0.20267012]\n",
      " [ 0.76350269  0.21270022  0.68497284  0.63155015  0.52614803  0.32058759\n",
      "   0.43897988  0.11750922  0.597181    0.12668198]\n",
      " [ 0.18822516  0.82252924  0.57789213  0.32339891  0.85018441  0.74652752\n",
      "   0.74448677  0.52294581  0.9277628   0.22590509]\n",
      " [ 0.33319226  0.76554007  0.2836794   0.5031364   0.6491317   0.38327485\n",
      "   0.20710464  0.31349902  0.71849529  0.20979657]\n",
      " [ 0.71552051  0.03149677  0.32814508  0.5274192   0.11947862  0.72422341\n",
      "   0.45671893  0.26097741  0.09337671  0.39478431]]\n"
     ]
    },
    {
     "data": {
      "text/plain": [
       "array([[-0.63938284,  0.25299682,  0.0247029 , -0.29630762,  0.3179573 ,\n",
       "        -0.00615941, -0.02092804, -0.14994799, -0.14222964, -0.16325843],\n",
       "       [ 0.06753723, -0.16657205, -0.19765603,  0.40948191, -0.01255603,\n",
       "         0.08821623,  0.13158382, -0.10269385, -0.26849858,  0.75709214],\n",
       "       [ 0.26449265,  0.09782085, -0.2284039 , -0.16721534, -0.48965289,\n",
       "         0.00615941, -0.14086847,  0.45962584, -0.19883628,  0.63690063],\n",
       "       [ 0.25281032, -0.02306586,  0.48613545,  0.19449942, -0.25444856,\n",
       "        -0.07076489, -0.21059567,  0.19987831,  0.14222964, -0.14538189],\n",
       "       [-0.30160172, -0.6713011 ,  0.28146656,  0.39241142,  0.03838515,\n",
       "         0.18855144, -0.15421832,  0.26018358, -0.16034331,  0.04473452],\n",
       "       [-0.06753723,  0.02306586, -0.18107676,  0.28190055, -0.17148779,\n",
       "        -0.43035788,  0.57399894,  0.1863662 ,  0.6736052 , -0.01518071],\n",
       "       [ 0.11876048, -0.52269509,  0.33212486,  0.05206548,  0.01255603,\n",
       "        -0.35430605,  0.02092804, -0.30274274,  0.31144244, -0.09116885],\n",
       "       [-0.45651705,  0.08713393,  0.22504415, -0.25608577,  0.33659241,\n",
       "         0.07163388,  0.32643492,  0.10269385,  0.64202425,  0.00805426],\n",
       "       [-0.31154995,  0.03014476, -0.06916859, -0.07634828,  0.1355397 ,\n",
       "        -0.29161878, -0.2109472 , -0.10675293,  0.43275673, -0.00805426],\n",
       "       [ 0.0707783 , -0.70389854, -0.0247029 , -0.05206548, -0.39411338,\n",
       "         0.04932978,  0.03866708, -0.15927454, -0.19236185,  0.17693348]])"
      ]
     },
     "execution_count": 11,
     "metadata": {},
     "output_type": "execute_result"
    }
   ],
   "source": [
    "m = np.random.rand(10, 10)\n",
    "print(m)\n",
    "\n",
    "m - np.median(m, axis=0)"
   ]
  },
  {
   "cell_type": "markdown",
   "metadata": {},
   "source": [
    "13) Создать матрицу случайных чисел 5x5. Добавить к ней столбецы максимумов и минимумов по строкам. Получится матрица 5x7."
   ]
  },
  {
   "cell_type": "code",
   "execution_count": 12,
   "metadata": {},
   "outputs": [
    {
     "data": {
      "text/plain": [
       "array([[ 0.99794935,  0.63552231,  0.32842037,  0.24772302,  0.43287122,\n",
       "         0.99794935,  0.24772302],\n",
       "       [ 0.02958669,  0.34792657,  0.80059499,  0.49125626,  0.4137416 ,\n",
       "         0.80059499,  0.02958669],\n",
       "       [ 0.1528158 ,  0.98304047,  0.63002976,  0.43725603,  0.95837748,\n",
       "         0.98304047,  0.1528158 ],\n",
       "       [ 0.13312502,  0.69474947,  0.36787349,  0.60181872,  0.82829338,\n",
       "         0.82829338,  0.13312502],\n",
       "       [ 0.40387769,  0.43014139,  0.93242648,  0.97031864,  0.60300678,\n",
       "         0.97031864,  0.40387769]])"
      ]
     },
     "execution_count": 12,
     "metadata": {},
     "output_type": "execute_result"
    }
   ],
   "source": [
    "m = np.random.rand(5,5)\n",
    "\n",
    "max = m.max(axis=1)\n",
    "min = m.min(axis=1)\n",
    "\n",
    "np.vstack((np.vstack((m.T,max)),min)).T"
   ]
  },
  {
   "cell_type": "markdown",
   "metadata": {},
   "source": [
    "14) Вектор чисел от 1 до 51 преобразовать в вектор нечетных чисел и в вектор четных чисел, поменять их размерности, чтобы получились две матрица. Найти произведение этих матриц. Найти обратную матрицу эётого произведения."
   ]
  },
  {
   "cell_type": "code",
   "execution_count": 13,
   "metadata": {},
   "outputs": [
    {
     "name": "stdout",
     "output_type": "stream",
     "text": [
      "[[ 750  800  850  900  950]\n",
      " [1850 2000 2150 2300 2450]\n",
      " [2950 3200 3450 3700 3950]\n",
      " [4050 4400 4750 5100 5450]\n",
      " [5150 5600 6050 6500 6950]]\n",
      "\n",
      "Singular matrix\n"
     ]
    }
   ],
   "source": [
    "arr = np.arange(1,51)\n",
    "\n",
    "even_matr = arr[arr % 2 == 0].reshape(5,5)\n",
    "odd_matr = arr[arr % 2 == 1].reshape(5,5)\n",
    "\n",
    "try:\n",
    "    prod = np.dot(odd_matr,even_matr)\n",
    "    print(prod)\n",
    "except Exception as e:\n",
    "    print(e)\n",
    "\n",
    "print()\n",
    "\n",
    "try:\n",
    "    inv_prod = np.linalg.inv(prod)\n",
    "    print(inv_prod)\n",
    "except Exception as e:\n",
    "    print(e)"
   ]
  },
  {
   "cell_type": "markdown",
   "metadata": {},
   "source": [
    "15) Создать 8x8 матрицу и заполнить её в шахматном порядке нулями и единицами."
   ]
  },
  {
   "cell_type": "code",
   "execution_count": 14,
   "metadata": {},
   "outputs": [
    {
     "data": {
      "text/plain": [
       "array([[ 0.,  1.,  0.,  1.,  0.,  1.,  0.,  1.],\n",
       "       [ 1.,  0.,  1.,  0.,  1.,  0.,  1.,  0.],\n",
       "       [ 0.,  1.,  0.,  1.,  0.,  1.,  0.,  1.],\n",
       "       [ 1.,  0.,  1.,  0.,  1.,  0.,  1.,  0.],\n",
       "       [ 0.,  1.,  0.,  1.,  0.,  1.,  0.,  1.],\n",
       "       [ 1.,  0.,  1.,  0.,  1.,  0.,  1.,  0.],\n",
       "       [ 0.,  1.,  0.,  1.,  0.,  1.,  0.,  1.],\n",
       "       [ 1.,  0.,  1.,  0.,  1.,  0.,  1.,  0.]])"
      ]
     },
     "execution_count": 14,
     "metadata": {},
     "output_type": "execute_result"
    }
   ],
   "source": [
    "m = np.zeros((8,8))\n",
    "m[1::2,::2] = 1\n",
    "m[::2,1::2] = 1\n",
    "\n",
    "m"
   ]
  },
  {
   "cell_type": "markdown",
   "metadata": {},
   "source": [
    "## Pandas\n",
    "\n",
    "#### Полезная литература\n",
    "\n",
    "- http://pandas.pydata.org/pandas-docs/stable/10min.html\n",
    "- https://pandas.pydata.org/pandas-docs/stable/indexing.html\n",
    "- https://pandas.pydata.org/pandas-docs/stable/missing_data.html"
   ]
  },
  {
   "cell_type": "markdown",
   "metadata": {},
   "source": [
    "В этом задании мы с вами рассмотрим датасет [Adult Data Set](https://archive.ics.uci.edu/ml/datasets/Adult).\n",
    "Основывается он на данных переписи населения 1994 года в США.\n",
    "\n",
    "Расшифровка содержимого колонок:\n",
    "\n",
    "- age: continuous. \n",
    "- workclass: Private, Self-emp-not-inc, Self-emp-inc, Federal-gov, Local-gov, State-gov, Without-pay, Never-worked. \n",
    "- fnlwgt: continuous. sampling weight, more here: SIPP Weighting.\n",
    "- education: Bachelors, Some-college, 11th, HS-grad, Prof-school, Assoc-acdm, Assoc-voc, 9th, 7th-8th, 12th, Masters, 1st-4th, 10th, Doctorate, 5th-6th, Preschool. \n",
    "- education-num: continuous. \n",
    "- marital-status: Married-civ-spouse, Divorced, Never-married, Separated, Widowed, Married-spouse-absent, Married-AF-spouse. \n",
    "- occupation: Tech-support, Craft-repair, Other-service, Sales, Exec-managerial, Prof-specialty, Handlers-cleaners, Machine-op-inspct, Adm-clerical, Farming-fishing, Transport-moving, Priv-house-serv, Protective-serv, Armed-Forces. \n",
    "- relationship: Wife, Own-child, Husband, Not-in-family, Other-relative, Unmarried. \n",
    "- race: White, Asian-Pac-Islander, Amer-Indian-Eskimo, Other, Black. \n",
    "- sex: Female, Male. \n",
    "- capital-gain: continuous. Income from investment sources, apart from wages/salary.\n",
    "- capital-loss: continuous. Losses from investment sources, apart from wages/salary.\n",
    "- hours-per-week: continuous. \n",
    "- native-country: United-States, Cambodia, England, Puerto-Rico, Canada, Germany, Outlying-US(Guam-USVI-etc), India, Japan, Greece, South, China, Cuba, Iran, Honduras, Philippines, Italy, Poland, Jamaica, Vietnam, Mexico, Portugal, Ireland, France, Dominican-Republic, Laos, Ecuador, Taiwan, Haiti, Columbia, Hungary, Guatemala, Nicaragua, Scotland, Thailand, Yugoslavia, El-Salvador, Trinadad&Tobago, Peru, Hong, Holand-Netherlands."
   ]
  },
  {
   "cell_type": "code",
   "execution_count": 17,
   "metadata": {},
   "outputs": [
    {
     "data": {
      "text/plain": [
       "'0.19.2'"
      ]
     },
     "execution_count": 17,
     "metadata": {},
     "output_type": "execute_result"
    }
   ],
   "source": [
    "%matplotlib inline\n",
    "import pandas as pd\n",
    "pd.__version__"
   ]
  },
  {
   "cell_type": "code",
   "execution_count": 18,
   "metadata": {},
   "outputs": [
    {
     "data": {
      "text/html": [
       "<div>\n",
       "<table border=\"1\" class=\"dataframe\">\n",
       "  <thead>\n",
       "    <tr style=\"text-align: right;\">\n",
       "      <th></th>\n",
       "      <th>age</th>\n",
       "      <th>workclass</th>\n",
       "      <th>fnlwgt</th>\n",
       "      <th>education</th>\n",
       "      <th>education.num</th>\n",
       "      <th>marital.status</th>\n",
       "      <th>occupation</th>\n",
       "      <th>relationship</th>\n",
       "      <th>race</th>\n",
       "      <th>sex</th>\n",
       "      <th>capital.gain</th>\n",
       "      <th>capital.loss</th>\n",
       "      <th>hours.per.week</th>\n",
       "      <th>native.country</th>\n",
       "      <th>income</th>\n",
       "    </tr>\n",
       "  </thead>\n",
       "  <tbody>\n",
       "    <tr>\n",
       "      <th>0</th>\n",
       "      <td>90</td>\n",
       "      <td>NaN</td>\n",
       "      <td>77053</td>\n",
       "      <td>HS-grad</td>\n",
       "      <td>9</td>\n",
       "      <td>Widowed</td>\n",
       "      <td>NaN</td>\n",
       "      <td>Not-in-family</td>\n",
       "      <td>White</td>\n",
       "      <td>Female</td>\n",
       "      <td>0</td>\n",
       "      <td>4356</td>\n",
       "      <td>40</td>\n",
       "      <td>United-States</td>\n",
       "      <td>&lt;=50K</td>\n",
       "    </tr>\n",
       "    <tr>\n",
       "      <th>1</th>\n",
       "      <td>82</td>\n",
       "      <td>Private</td>\n",
       "      <td>132870</td>\n",
       "      <td>HS-grad</td>\n",
       "      <td>9</td>\n",
       "      <td>Widowed</td>\n",
       "      <td>Exec-managerial</td>\n",
       "      <td>Not-in-family</td>\n",
       "      <td>White</td>\n",
       "      <td>Female</td>\n",
       "      <td>0</td>\n",
       "      <td>4356</td>\n",
       "      <td>18</td>\n",
       "      <td>United-States</td>\n",
       "      <td>&lt;=50K</td>\n",
       "    </tr>\n",
       "    <tr>\n",
       "      <th>2</th>\n",
       "      <td>66</td>\n",
       "      <td>NaN</td>\n",
       "      <td>186061</td>\n",
       "      <td>Some-college</td>\n",
       "      <td>10</td>\n",
       "      <td>Widowed</td>\n",
       "      <td>NaN</td>\n",
       "      <td>Unmarried</td>\n",
       "      <td>Black</td>\n",
       "      <td>Female</td>\n",
       "      <td>0</td>\n",
       "      <td>4356</td>\n",
       "      <td>40</td>\n",
       "      <td>United-States</td>\n",
       "      <td>&lt;=50K</td>\n",
       "    </tr>\n",
       "    <tr>\n",
       "      <th>3</th>\n",
       "      <td>54</td>\n",
       "      <td>Private</td>\n",
       "      <td>140359</td>\n",
       "      <td>7th-8th</td>\n",
       "      <td>4</td>\n",
       "      <td>Divorced</td>\n",
       "      <td>Machine-op-inspct</td>\n",
       "      <td>Unmarried</td>\n",
       "      <td>White</td>\n",
       "      <td>Female</td>\n",
       "      <td>0</td>\n",
       "      <td>3900</td>\n",
       "      <td>40</td>\n",
       "      <td>United-States</td>\n",
       "      <td>&lt;=50K</td>\n",
       "    </tr>\n",
       "    <tr>\n",
       "      <th>4</th>\n",
       "      <td>41</td>\n",
       "      <td>Private</td>\n",
       "      <td>264663</td>\n",
       "      <td>Some-college</td>\n",
       "      <td>10</td>\n",
       "      <td>Separated</td>\n",
       "      <td>Prof-specialty</td>\n",
       "      <td>Own-child</td>\n",
       "      <td>White</td>\n",
       "      <td>Female</td>\n",
       "      <td>0</td>\n",
       "      <td>3900</td>\n",
       "      <td>40</td>\n",
       "      <td>United-States</td>\n",
       "      <td>&lt;=50K</td>\n",
       "    </tr>\n",
       "  </tbody>\n",
       "</table>\n",
       "</div>"
      ],
      "text/plain": [
       "   age workclass  fnlwgt     education  education.num marital.status  \\\n",
       "0   90       NaN   77053       HS-grad              9        Widowed   \n",
       "1   82   Private  132870       HS-grad              9        Widowed   \n",
       "2   66       NaN  186061  Some-college             10        Widowed   \n",
       "3   54   Private  140359       7th-8th              4       Divorced   \n",
       "4   41   Private  264663  Some-college             10      Separated   \n",
       "\n",
       "          occupation   relationship   race     sex  capital.gain  \\\n",
       "0                NaN  Not-in-family  White  Female             0   \n",
       "1    Exec-managerial  Not-in-family  White  Female             0   \n",
       "2                NaN      Unmarried  Black  Female             0   \n",
       "3  Machine-op-inspct      Unmarried  White  Female             0   \n",
       "4     Prof-specialty      Own-child  White  Female             0   \n",
       "\n",
       "   capital.loss  hours.per.week native.country income  \n",
       "0          4356              40  United-States  <=50K  \n",
       "1          4356              18  United-States  <=50K  \n",
       "2          4356              40  United-States  <=50K  \n",
       "3          3900              40  United-States  <=50K  \n",
       "4          3900              40  United-States  <=50K  "
      ]
     },
     "execution_count": 18,
     "metadata": {},
     "output_type": "execute_result"
    }
   ],
   "source": [
    "df = pd.read_csv('data/adult.csv.gz', compression='gzip', na_values='?')\n",
    "df.head()"
   ]
  },
  {
   "cell_type": "markdown",
   "metadata": {},
   "source": [
    "1) Выведите последние 10 элеметнов датасета  "
   ]
  },
  {
   "cell_type": "code",
   "execution_count": 19,
   "metadata": {},
   "outputs": [
    {
     "data": {
      "text/html": [
       "<div>\n",
       "<table border=\"1\" class=\"dataframe\">\n",
       "  <thead>\n",
       "    <tr style=\"text-align: right;\">\n",
       "      <th></th>\n",
       "      <th>age</th>\n",
       "      <th>workclass</th>\n",
       "      <th>fnlwgt</th>\n",
       "      <th>education</th>\n",
       "      <th>education.num</th>\n",
       "      <th>marital.status</th>\n",
       "      <th>occupation</th>\n",
       "      <th>relationship</th>\n",
       "      <th>race</th>\n",
       "      <th>sex</th>\n",
       "      <th>capital.gain</th>\n",
       "      <th>capital.loss</th>\n",
       "      <th>hours.per.week</th>\n",
       "      <th>native.country</th>\n",
       "      <th>income</th>\n",
       "    </tr>\n",
       "  </thead>\n",
       "  <tbody>\n",
       "    <tr>\n",
       "      <th>32551</th>\n",
       "      <td>43</td>\n",
       "      <td>Self-emp-not-inc</td>\n",
       "      <td>27242</td>\n",
       "      <td>Some-college</td>\n",
       "      <td>10</td>\n",
       "      <td>Married-civ-spouse</td>\n",
       "      <td>Craft-repair</td>\n",
       "      <td>Husband</td>\n",
       "      <td>White</td>\n",
       "      <td>Male</td>\n",
       "      <td>0</td>\n",
       "      <td>0</td>\n",
       "      <td>50</td>\n",
       "      <td>United-States</td>\n",
       "      <td>&lt;=50K</td>\n",
       "    </tr>\n",
       "    <tr>\n",
       "      <th>32552</th>\n",
       "      <td>32</td>\n",
       "      <td>Private</td>\n",
       "      <td>34066</td>\n",
       "      <td>10th</td>\n",
       "      <td>6</td>\n",
       "      <td>Married-civ-spouse</td>\n",
       "      <td>Handlers-cleaners</td>\n",
       "      <td>Husband</td>\n",
       "      <td>Amer-Indian-Eskimo</td>\n",
       "      <td>Male</td>\n",
       "      <td>0</td>\n",
       "      <td>0</td>\n",
       "      <td>40</td>\n",
       "      <td>United-States</td>\n",
       "      <td>&lt;=50K</td>\n",
       "    </tr>\n",
       "    <tr>\n",
       "      <th>32553</th>\n",
       "      <td>43</td>\n",
       "      <td>Private</td>\n",
       "      <td>84661</td>\n",
       "      <td>Assoc-voc</td>\n",
       "      <td>11</td>\n",
       "      <td>Married-civ-spouse</td>\n",
       "      <td>Sales</td>\n",
       "      <td>Husband</td>\n",
       "      <td>White</td>\n",
       "      <td>Male</td>\n",
       "      <td>0</td>\n",
       "      <td>0</td>\n",
       "      <td>45</td>\n",
       "      <td>United-States</td>\n",
       "      <td>&lt;=50K</td>\n",
       "    </tr>\n",
       "    <tr>\n",
       "      <th>32554</th>\n",
       "      <td>32</td>\n",
       "      <td>Private</td>\n",
       "      <td>116138</td>\n",
       "      <td>Masters</td>\n",
       "      <td>14</td>\n",
       "      <td>Never-married</td>\n",
       "      <td>Tech-support</td>\n",
       "      <td>Not-in-family</td>\n",
       "      <td>Asian-Pac-Islander</td>\n",
       "      <td>Male</td>\n",
       "      <td>0</td>\n",
       "      <td>0</td>\n",
       "      <td>11</td>\n",
       "      <td>Taiwan</td>\n",
       "      <td>&lt;=50K</td>\n",
       "    </tr>\n",
       "    <tr>\n",
       "      <th>32555</th>\n",
       "      <td>53</td>\n",
       "      <td>Private</td>\n",
       "      <td>321865</td>\n",
       "      <td>Masters</td>\n",
       "      <td>14</td>\n",
       "      <td>Married-civ-spouse</td>\n",
       "      <td>Exec-managerial</td>\n",
       "      <td>Husband</td>\n",
       "      <td>White</td>\n",
       "      <td>Male</td>\n",
       "      <td>0</td>\n",
       "      <td>0</td>\n",
       "      <td>40</td>\n",
       "      <td>United-States</td>\n",
       "      <td>&gt;50K</td>\n",
       "    </tr>\n",
       "    <tr>\n",
       "      <th>32556</th>\n",
       "      <td>22</td>\n",
       "      <td>Private</td>\n",
       "      <td>310152</td>\n",
       "      <td>Some-college</td>\n",
       "      <td>10</td>\n",
       "      <td>Never-married</td>\n",
       "      <td>Protective-serv</td>\n",
       "      <td>Not-in-family</td>\n",
       "      <td>White</td>\n",
       "      <td>Male</td>\n",
       "      <td>0</td>\n",
       "      <td>0</td>\n",
       "      <td>40</td>\n",
       "      <td>United-States</td>\n",
       "      <td>&lt;=50K</td>\n",
       "    </tr>\n",
       "    <tr>\n",
       "      <th>32557</th>\n",
       "      <td>27</td>\n",
       "      <td>Private</td>\n",
       "      <td>257302</td>\n",
       "      <td>Assoc-acdm</td>\n",
       "      <td>12</td>\n",
       "      <td>Married-civ-spouse</td>\n",
       "      <td>Tech-support</td>\n",
       "      <td>Wife</td>\n",
       "      <td>White</td>\n",
       "      <td>Female</td>\n",
       "      <td>0</td>\n",
       "      <td>0</td>\n",
       "      <td>38</td>\n",
       "      <td>United-States</td>\n",
       "      <td>&lt;=50K</td>\n",
       "    </tr>\n",
       "    <tr>\n",
       "      <th>32558</th>\n",
       "      <td>40</td>\n",
       "      <td>Private</td>\n",
       "      <td>154374</td>\n",
       "      <td>HS-grad</td>\n",
       "      <td>9</td>\n",
       "      <td>Married-civ-spouse</td>\n",
       "      <td>Machine-op-inspct</td>\n",
       "      <td>Husband</td>\n",
       "      <td>White</td>\n",
       "      <td>Male</td>\n",
       "      <td>0</td>\n",
       "      <td>0</td>\n",
       "      <td>40</td>\n",
       "      <td>United-States</td>\n",
       "      <td>&gt;50K</td>\n",
       "    </tr>\n",
       "    <tr>\n",
       "      <th>32559</th>\n",
       "      <td>58</td>\n",
       "      <td>Private</td>\n",
       "      <td>151910</td>\n",
       "      <td>HS-grad</td>\n",
       "      <td>9</td>\n",
       "      <td>Widowed</td>\n",
       "      <td>Adm-clerical</td>\n",
       "      <td>Unmarried</td>\n",
       "      <td>White</td>\n",
       "      <td>Female</td>\n",
       "      <td>0</td>\n",
       "      <td>0</td>\n",
       "      <td>40</td>\n",
       "      <td>United-States</td>\n",
       "      <td>&lt;=50K</td>\n",
       "    </tr>\n",
       "    <tr>\n",
       "      <th>32560</th>\n",
       "      <td>22</td>\n",
       "      <td>Private</td>\n",
       "      <td>201490</td>\n",
       "      <td>HS-grad</td>\n",
       "      <td>9</td>\n",
       "      <td>Never-married</td>\n",
       "      <td>Adm-clerical</td>\n",
       "      <td>Own-child</td>\n",
       "      <td>White</td>\n",
       "      <td>Male</td>\n",
       "      <td>0</td>\n",
       "      <td>0</td>\n",
       "      <td>20</td>\n",
       "      <td>United-States</td>\n",
       "      <td>&lt;=50K</td>\n",
       "    </tr>\n",
       "  </tbody>\n",
       "</table>\n",
       "</div>"
      ],
      "text/plain": [
       "       age         workclass  fnlwgt     education  education.num  \\\n",
       "32551   43  Self-emp-not-inc   27242  Some-college             10   \n",
       "32552   32           Private   34066          10th              6   \n",
       "32553   43           Private   84661     Assoc-voc             11   \n",
       "32554   32           Private  116138       Masters             14   \n",
       "32555   53           Private  321865       Masters             14   \n",
       "32556   22           Private  310152  Some-college             10   \n",
       "32557   27           Private  257302    Assoc-acdm             12   \n",
       "32558   40           Private  154374       HS-grad              9   \n",
       "32559   58           Private  151910       HS-grad              9   \n",
       "32560   22           Private  201490       HS-grad              9   \n",
       "\n",
       "           marital.status         occupation   relationship  \\\n",
       "32551  Married-civ-spouse       Craft-repair        Husband   \n",
       "32552  Married-civ-spouse  Handlers-cleaners        Husband   \n",
       "32553  Married-civ-spouse              Sales        Husband   \n",
       "32554       Never-married       Tech-support  Not-in-family   \n",
       "32555  Married-civ-spouse    Exec-managerial        Husband   \n",
       "32556       Never-married    Protective-serv  Not-in-family   \n",
       "32557  Married-civ-spouse       Tech-support           Wife   \n",
       "32558  Married-civ-spouse  Machine-op-inspct        Husband   \n",
       "32559             Widowed       Adm-clerical      Unmarried   \n",
       "32560       Never-married       Adm-clerical      Own-child   \n",
       "\n",
       "                     race     sex  capital.gain  capital.loss  hours.per.week  \\\n",
       "32551               White    Male             0             0              50   \n",
       "32552  Amer-Indian-Eskimo    Male             0             0              40   \n",
       "32553               White    Male             0             0              45   \n",
       "32554  Asian-Pac-Islander    Male             0             0              11   \n",
       "32555               White    Male             0             0              40   \n",
       "32556               White    Male             0             0              40   \n",
       "32557               White  Female             0             0              38   \n",
       "32558               White    Male             0             0              40   \n",
       "32559               White  Female             0             0              40   \n",
       "32560               White    Male             0             0              20   \n",
       "\n",
       "      native.country income  \n",
       "32551  United-States  <=50K  \n",
       "32552  United-States  <=50K  \n",
       "32553  United-States  <=50K  \n",
       "32554         Taiwan  <=50K  \n",
       "32555  United-States   >50K  \n",
       "32556  United-States  <=50K  \n",
       "32557  United-States  <=50K  \n",
       "32558  United-States   >50K  \n",
       "32559  United-States  <=50K  \n",
       "32560  United-States  <=50K  "
      ]
     },
     "execution_count": 19,
     "metadata": {},
     "output_type": "execute_result"
    }
   ],
   "source": [
    "df.tail(10)"
   ]
  },
  {
   "cell_type": "markdown",
   "metadata": {},
   "source": [
    "2) Сколько колонок и сколько строк в этом датасете?"
   ]
  },
  {
   "cell_type": "code",
   "execution_count": 20,
   "metadata": {},
   "outputs": [
    {
     "data": {
      "text/plain": [
       "(32561, 15)"
      ]
     },
     "execution_count": 20,
     "metadata": {},
     "output_type": "execute_result"
    }
   ],
   "source": [
    "df.shape"
   ]
  },
  {
   "cell_type": "markdown",
   "metadata": {},
   "source": [
    "3) Какие типы данных у элементов этого датасета?"
   ]
  },
  {
   "cell_type": "code",
   "execution_count": 21,
   "metadata": {},
   "outputs": [
    {
     "data": {
      "text/plain": [
       "age                int64\n",
       "workclass         object\n",
       "fnlwgt             int64\n",
       "education         object\n",
       "education.num      int64\n",
       "marital.status    object\n",
       "occupation        object\n",
       "relationship      object\n",
       "race              object\n",
       "sex               object\n",
       "capital.gain       int64\n",
       "capital.loss       int64\n",
       "hours.per.week     int64\n",
       "native.country    object\n",
       "income            object\n",
       "dtype: object"
      ]
     },
     "execution_count": 21,
     "metadata": {},
     "output_type": "execute_result"
    }
   ],
   "source": [
    "df.dtypes"
   ]
  },
  {
   "cell_type": "markdown",
   "metadata": {},
   "source": [
    "4) Какие признаки имеют пропуски?"
   ]
  },
  {
   "cell_type": "code",
   "execution_count": 22,
   "metadata": {},
   "outputs": [
    {
     "data": {
      "text/plain": [
       "['workclass', 'occupation', 'native.country']"
      ]
     },
     "execution_count": 22,
     "metadata": {},
     "output_type": "execute_result"
    }
   ],
   "source": [
    "lst = df.isnull().any()\n",
    "list(lst[lst == True].keys())"
   ]
  },
  {
   "cell_type": "markdown",
   "metadata": {},
   "source": [
    "5) Как вы думаете, с чем связаны пропуски этих значение. Напишите развернутый ответ в ячейке ниже."
   ]
  },
  {
   "cell_type": "markdown",
   "metadata": {},
   "source": [
    "**ответ:** возможно, связано с наличием каких-то персональных причин человека скрыть их. Предположительно, может быть связано с предвзятым отношением к некоторым слоям общества в среде, где проводился сбор данных."
   ]
  },
  {
   "cell_type": "markdown",
   "metadata": {},
   "source": [
    "6) Какие и сколько различных рабочих классов `workclass` представлено в выборке?"
   ]
  },
  {
   "cell_type": "code",
   "execution_count": 23,
   "metadata": {},
   "outputs": [
    {
     "name": "stdout",
     "output_type": "stream",
     "text": [
      "[nan 'Private' 'State-gov' 'Federal-gov' 'Self-emp-not-inc' 'Self-emp-inc'\n",
      " 'Local-gov' 'Without-pay' 'Never-worked']\n",
      "9\n"
     ]
    }
   ],
   "source": [
    "print(df.workclass.unique())\n",
    "\n",
    "print(len(df.workclass.unique()))"
   ]
  },
  {
   "cell_type": "markdown",
   "metadata": {},
   "source": [
    "7) Какой средний возраст женщин и мужчин?"
   ]
  },
  {
   "cell_type": "code",
   "execution_count": 24,
   "metadata": {},
   "outputs": [
    {
     "name": "stdout",
     "output_type": "stream",
     "text": [
      "36.8582304336\n",
      "39.4335474989\n"
     ]
    }
   ],
   "source": [
    "print(df[df.sex == 'Female'].age.mean())\n",
    "print(df[df.sex == 'Male'].age.mean())"
   ]
  },
  {
   "cell_type": "markdown",
   "metadata": {},
   "source": [
    "8) Постройте гистограмму(bar) распределения образования людей (education)"
   ]
  },
  {
   "cell_type": "code",
   "execution_count": 25,
   "metadata": {},
   "outputs": [
    {
     "data": {
      "text/plain": [
       "(array([  2108.,    433.,    501.,    646.,   1581.,   1382.,   5768.,\n",
       "         10501.,   1774.,   7867.]),\n",
       " array([  0. ,   1.5,   3. ,   4.5,   6. ,   7.5,   9. ,  10.5,  12. ,\n",
       "         13.5,  15. ]),\n",
       " <a list of 10 Patch objects>)"
      ]
     },
     "execution_count": 25,
     "metadata": {},
     "output_type": "execute_result"
    },
    {
     "data": {
      "image/png": "[encoded data removed]",
      "text/plain": [
       "<matplotlib.figure.Figure at 0x7f92a56474a8>"
      ]
     },
     "metadata": {},
     "output_type": "display_data"
    }
   ],
   "source": [
    "from matplotlib import pyplot as plt\n",
    "plt.hist(df.education)"
   ]
  },
  {
   "cell_type": "markdown",
   "metadata": {},
   "source": [
    "9) Каковы средние значения и среднеквадратичные отклонения возраста тех, кто получает более 50K в год (признак income) и тех, кто получает менее 50K в год?"
   ]
  },
  {
   "cell_type": "code",
   "execution_count": 26,
   "metadata": {},
   "outputs": [
    {
     "name": "stdout",
     "output_type": "stream",
     "text": [
      ">50K :\n",
      "mean = 44.2498405816\n",
      "std = 10.5190277199\n",
      "\n",
      "<=50K :\n",
      "mean = 36.7837378641\n",
      "std = 14.0200884908\n"
     ]
    }
   ],
   "source": [
    "print('>50K :')\n",
    "print('mean =', df[df['income'] == '>50K']['age'].mean())\n",
    "print('std =', df[df['income'] == '>50K']['age'].std())\n",
    "\n",
    "print()\n",
    "\n",
    "print('<=50K :')\n",
    "print('mean =', df[df['income'] == '<=50K']['age'].mean())\n",
    "print('std =', df[df['income'] == '<=50K']['age'].std())"
   ]
  },
  {
   "cell_type": "markdown",
   "metadata": {},
   "source": [
    "10) Правда ли, что люди, которые получают больше 50k, имеют как минимум высшее образование? (признак education - Bachelors, Prof-school, Assoc-acdm, Assoc-voc, Masters или Doctorate)"
   ]
  },
  {
   "cell_type": "code",
   "execution_count": 27,
   "metadata": {},
   "outputs": [
    {
     "data": {
      "text/plain": [
       "False"
      ]
     },
     "execution_count": 27,
     "metadata": {},
     "output_type": "execute_result"
    }
   ],
   "source": [
    "t = df[\n",
    "    (df.income == '>50K') &\n",
    "    (df.education != 'Bachelors') & (df.education != 'Prof-school') & (df.education != 'Assoc-acdm') &\n",
    "    (df.education != 'Assoc-voc') & (df.education != 'Masters') & (df.education != 'Doctorate')\n",
    "]\n",
    "\n",
    "len(t) == 0"
   ]
  },
  {
   "cell_type": "markdown",
   "metadata": {},
   "source": [
    "11) Среди кого больше доля зарабатывающих много (>50K): среди женатых или холостых мужчин (признак marital-status)? Женатыми считаем тех, у кого marital-status начинается с Married (Married-civ-spouse, Married-spouse-absent или Married-AF-spouse), остальных считаем холостыми."
   ]
  },
  {
   "cell_type": "code",
   "execution_count": 28,
   "metadata": {},
   "outputs": [
    {
     "name": "stdout",
     "output_type": "stream",
     "text": [
      "Среди женатых.\n"
     ]
    }
   ],
   "source": [
    "men = df[df.sex == 'Male']\n",
    "\n",
    "married = len (men[(men.income == '>50K') & men['marital.status'].str.startswith('Married')])\n",
    "not_married = len (men[men.income == '>50K']) - married\n",
    "\n",
    "if married - not_married > 0 :\n",
    "    print(\"Среди женатых.\")\n",
    "else :\n",
    "    print(\"Среди холостых.\")"
   ]
  },
  {
   "cell_type": "markdown",
   "metadata": {},
   "source": [
    "12) Посчитайте среднее время работы (hours-per-week) зарабатывающих мало и много (salary) для каждой страны (native-country)."
   ]
  },
  {
   "cell_type": "code",
   "execution_count": 29,
   "metadata": {},
   "outputs": [
    {
     "name": "stdout",
     "output_type": "stream",
     "text": [
      "United-States :\n",
      "\t \">50K\" = 45.4730263997\n",
      "\t \"<=50K\" = 38.840210356\n",
      "nan :\n",
      "\t \">50K\" = 45.4730263997\n",
      "\t \"<=50K\" = 38.840210356\n",
      "Mexico :\n",
      "\t \">50K\" = 45.4730263997\n",
      "\t \"<=50K\" = 38.840210356\n",
      "Greece :\n",
      "\t \">50K\" = 45.4730263997\n",
      "\t \"<=50K\" = 38.840210356\n",
      "Vietnam :\n",
      "\t \">50K\" = 45.4730263997\n",
      "\t \"<=50K\" = 38.840210356\n",
      "China :\n",
      "\t \">50K\" = 45.4730263997\n",
      "\t \"<=50K\" = 38.840210356\n",
      "Taiwan :\n",
      "\t \">50K\" = 45.4730263997\n",
      "\t \"<=50K\" = 38.840210356\n",
      "India :\n",
      "\t \">50K\" = 45.4730263997\n",
      "\t \"<=50K\" = 38.840210356\n",
      "Philippines :\n",
      "\t \">50K\" = 45.4730263997\n",
      "\t \"<=50K\" = 38.840210356\n",
      "Trinadad&Tobago :\n",
      "\t \">50K\" = 45.4730263997\n",
      "\t \"<=50K\" = 38.840210356\n",
      "Canada :\n",
      "\t \">50K\" = 45.4730263997\n",
      "\t \"<=50K\" = 38.840210356\n",
      "South :\n",
      "\t \">50K\" = 45.4730263997\n",
      "\t \"<=50K\" = 38.840210356\n",
      "Holand-Netherlands :\n",
      "\t \">50K\" = 45.4730263997\n",
      "\t \"<=50K\" = 38.840210356\n",
      "Puerto-Rico :\n",
      "\t \">50K\" = 45.4730263997\n",
      "\t \"<=50K\" = 38.840210356\n",
      "Poland :\n",
      "\t \">50K\" = 45.4730263997\n",
      "\t \"<=50K\" = 38.840210356\n",
      "Iran :\n",
      "\t \">50K\" = 45.4730263997\n",
      "\t \"<=50K\" = 38.840210356\n",
      "England :\n",
      "\t \">50K\" = 45.4730263997\n",
      "\t \"<=50K\" = 38.840210356\n",
      "Germany :\n",
      "\t \">50K\" = 45.4730263997\n",
      "\t \"<=50K\" = 38.840210356\n",
      "Italy :\n",
      "\t \">50K\" = 45.4730263997\n",
      "\t \"<=50K\" = 38.840210356\n",
      "Japan :\n",
      "\t \">50K\" = 45.4730263997\n",
      "\t \"<=50K\" = 38.840210356\n",
      "Hong :\n",
      "\t \">50K\" = 45.4730263997\n",
      "\t \"<=50K\" = 38.840210356\n",
      "Honduras :\n",
      "\t \">50K\" = 45.4730263997\n",
      "\t \"<=50K\" = 38.840210356\n",
      "Cuba :\n",
      "\t \">50K\" = 45.4730263997\n",
      "\t \"<=50K\" = 38.840210356\n",
      "Ireland :\n",
      "\t \">50K\" = 45.4730263997\n",
      "\t \"<=50K\" = 38.840210356\n",
      "Cambodia :\n",
      "\t \">50K\" = 45.4730263997\n",
      "\t \"<=50K\" = 38.840210356\n",
      "Peru :\n",
      "\t \">50K\" = 45.4730263997\n",
      "\t \"<=50K\" = 38.840210356\n",
      "Nicaragua :\n",
      "\t \">50K\" = 45.4730263997\n",
      "\t \"<=50K\" = 38.840210356\n",
      "Dominican-Republic :\n",
      "\t \">50K\" = 45.4730263997\n",
      "\t \"<=50K\" = 38.840210356\n",
      "Haiti :\n",
      "\t \">50K\" = 45.4730263997\n",
      "\t \"<=50K\" = 38.840210356\n",
      "El-Salvador :\n",
      "\t \">50K\" = 45.4730263997\n",
      "\t \"<=50K\" = 38.840210356\n",
      "Hungary :\n",
      "\t \">50K\" = 45.4730263997\n",
      "\t \"<=50K\" = 38.840210356\n",
      "Columbia :\n",
      "\t \">50K\" = 45.4730263997\n",
      "\t \"<=50K\" = 38.840210356\n",
      "Guatemala :\n",
      "\t \">50K\" = 45.4730263997\n",
      "\t \"<=50K\" = 38.840210356\n",
      "Jamaica :\n",
      "\t \">50K\" = 45.4730263997\n",
      "\t \"<=50K\" = 38.840210356\n",
      "Ecuador :\n",
      "\t \">50K\" = 45.4730263997\n",
      "\t \"<=50K\" = 38.840210356\n",
      "France :\n",
      "\t \">50K\" = 45.4730263997\n",
      "\t \"<=50K\" = 38.840210356\n",
      "Yugoslavia :\n",
      "\t \">50K\" = 45.4730263997\n",
      "\t \"<=50K\" = 38.840210356\n",
      "Scotland :\n",
      "\t \">50K\" = 45.4730263997\n",
      "\t \"<=50K\" = 38.840210356\n",
      "Portugal :\n",
      "\t \">50K\" = 45.4730263997\n",
      "\t \"<=50K\" = 38.840210356\n",
      "Laos :\n",
      "\t \">50K\" = 45.4730263997\n",
      "\t \"<=50K\" = 38.840210356\n",
      "Thailand :\n",
      "\t \">50K\" = 45.4730263997\n",
      "\t \"<=50K\" = 38.840210356\n",
      "Outlying-US(Guam-USVI-etc) :\n",
      "\t \">50K\" = 45.4730263997\n",
      "\t \"<=50K\" = 38.840210356\n"
     ]
    }
   ],
   "source": [
    "countries = df['native.country'].unique()\n",
    "\n",
    "for c in countries:\n",
    "    print(c, ':')\n",
    "    print('\\t', '\\\">50K\\\" =', df[df.income == '>50K']['hours.per.week'].mean())\n",
    "    print('\\t', '\\\"<=50K\\\" =', df[df.income == '<=50K']['hours.per.week'].mean())"
   ]
  },
  {
   "cell_type": "markdown",
   "metadata": {},
   "source": [
    "13) Постройте сводную таблицу для сравнения уровня образования и разницы между capital.gain и capital.loss (то есть пассивный доход). Сделайте так, чтобы `capital.gain - capital.loss` создали не больше 10 разных уникальных значений. То есть, gain и loss - это числа в каком-то диапазоне. Это количественные признаки из вещественных чисел. С помощью математических функций, типа log, извлечение корня N-ой степени и округления можно перейти к категориальным признакам."
   ]
  },
  {
   "cell_type": "code",
   "execution_count": null,
   "metadata": {},
   "outputs": [],
   "source": []
  },
  {
   "cell_type": "markdown",
   "metadata": {},
   "source": [
    "14) Женщины из каких стран получают в среднем большую зарплату (>50K) чаще."
   ]
  },
  {
   "cell_type": "code",
   "execution_count": 30,
   "metadata": {},
   "outputs": [
    {
     "data": {
      "text/plain": [
       "0"
      ]
     },
     "execution_count": 30,
     "metadata": {},
     "output_type": "execute_result"
    }
   ],
   "source": [
    "countries = df[\n",
    "    (df.sex == 'Female') & (df.income.mode() == '>50K')\n",
    "]['native.country'].unique()\n",
    "\n",
    "\n",
    "len(countries)"
   ]
  },
  {
   "cell_type": "markdown",
   "metadata": {},
   "source": [
    "15) Создайте случайную колонку - `magic_salary`, которую нужно будет вычислить следующим образом: если зарплата небольшая (<50K), тогда случайно выберите число из диапазона [0,50]. Если зарплата выше 50K тогда из диапазона [51, 200]. Посчитайте среднюю зарплату в час для групп людей с одни уровнем образования на основе нашей случайной колонки `magic_salary`"
   ]
  },
  {
   "cell_type": "code",
   "execution_count": null,
   "metadata": {},
   "outputs": [],
   "source": []
  }
 ],
 "metadata": {
  "kernelspec": {
   "display_name": "Python 3",
   "language": "python",
   "name": "python3"
  },
  "language_info": {
   "codemirror_mode": {
    "name": "ipython",
    "version": 3
   },
   "file_extension": ".py",
   "mimetype": "text/x-python",
   "name": "python",
   "nbconvert_exporter": "python",
   "pygments_lexer": "ipython3",
   "version": "3.6.3"
  }
 },
 "nbformat": 4,
 "nbformat_minor": 2
}
